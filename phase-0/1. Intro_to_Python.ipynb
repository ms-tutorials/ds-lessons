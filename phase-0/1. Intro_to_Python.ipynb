{
 "cells": [
  {
   "cell_type": "markdown",
   "metadata": {},
   "source": [
    "# Introduction to Python for Data Science\n",
    "**Instructor:** Data Science Technical Mentor\n",
    "\n",
    "## Lesson Outline:\n",
    "1. What is Python?\n",
    "2. Why Python?\n",
    "3. Python Installation\n",
    "4. Python Syntax\n",
    "5. Basic Data Types\n",
    "6. Variables and Constants\n",
    "7. Control Structures\n",
    "8. Functions\n",
    "9. Python Libraries\n",
    "10. Hands-on Examples\n",
    "11. Conclusion\n",
    "12. Mini Exercises\n"
   ]
  },
  {
   "cell_type": "markdown",
   "metadata": {},
   "source": [
    "## 1.  What is Python?\n",
    "Python is a **high-level**, **easy-to-read**, and **versatile programming language**. Created by **Guido van Rossum** in the 1980s, it is now one of the most popular languages, especially in **data science, AI, and automation**.\n"
   ]
  },
  {
   "cell_type": "markdown",
   "metadata": {},
   "source": [
    "## 2.  Why Python?\n",
    "- Easy to learn and read\n",
    "- Massive community and support\n",
    "- Many libraries for Data Science (like pandas, NumPy, scikit-learn)\n",
    "- Free and open-source\n"
   ]
  },
  {
   "cell_type": "markdown",
   "metadata": {},
   "source": [
    "## 3.  Python Installation\n",
    "1. Go to https://www.python.org/\n",
    "2. Download the latest version for your OS\n",
    "3. Check `Add Python to PATH` during installation\n",
    "4. Open terminal/command prompt:\n",
    "   \n",
    "```bash\n",
    "python --version\n",
    "```\n"
   ]
  },
  {
   "cell_type": "markdown",
   "metadata": {},
   "source": [
    "## 4.  Python Syntax\n",
    "```python\n",
    "print(\"Hello, world!\")\n",
    "```\n"
   ]
  },
  {
   "cell_type": "markdown",
   "metadata": {},
   "source": [
    "## 5. Basic Data Types\n",
    "| Data Type | Example     | Meaning                          |\n",
    "|-----------|-------------|----------------------------------|\n",
    "| Integer   | `5`         | Whole numbers                    |\n",
    "| Float     | `5.7`       | Decimal numbers                  |\n",
    "| String    | `\"hello\"`   | Text                             |\n",
    "| Boolean   | `True`      | Either `True` or `False`         |\n"
   ]
  },
  {
   "cell_type": "markdown",
   "metadata": {},
   "source": [
    "## 6.  Variables and Constants\n",
    "```python\n",
    "name = \"Alice\"\n",
    "age = 25\n",
    "PI = 3.14\n",
    "```\n"
   ]
  },
  {
   "cell_type": "markdown",
   "metadata": {},
   "source": [
    "## 7.  Control Structures\n",
    "### If Statement:\n",
    "```python\n",
    "age = 18\n",
    "if age >= 18:\n",
    "    print(\"You're an adult.\")\n",
    "else:\n",
    "    print(\"You're a minor.\")\n",
    "```\n",
    "### Loop:\n",
    "```python\n",
    "for i in range(3):\n",
    "    print(\"Hello\", i)\n",
    "```\n"
   ]
  },
  {
   "cell_type": "markdown",
   "metadata": {},
   "source": [
    "## 8. Functions\n",
    "```python\n",
    "def greet(name):\n",
    "    return \"Hello, \" + name\n",
    "\n",
    "print(greet(\"Alice\"))\n",
    "```\n"
   ]
  },
  {
   "cell_type": "markdown",
   "metadata": {},
   "source": [
    "## 9. Python Libraries\n",
    "```python\n",
    "import pandas as pd\n",
    "import numpy as np\n",
    "```\n"
   ]
  },
  {
   "cell_type": "code",
   "execution_count": 3,
   "metadata": {},
   "outputs": [
    {
     "name": "stdout",
     "output_type": "stream",
     "text": [
      "Sum: 15\n",
      "Difference: 5\n",
      "Product: 50\n",
      "Quotient: 2.0\n"
     ]
    }
   ],
   "source": [
    "# 10. Hands-on Examples\n",
    "# Basic Calculator\n",
    "a = 10\n",
    "b = 5\n",
    "\n",
    "print(\"Sum:\", a + b)\n",
    "print(\"Difference:\", a - b)\n",
    "print(\"Product:\", a * b)\n",
    "print(\"Quotient:\", a / b)\n"
   ]
  },
  {
   "cell_type": "code",
   "execution_count": 4,
   "metadata": {},
   "outputs": [
    {
     "name": "stdout",
     "output_type": "stream",
     "text": [
      "Odd\n"
     ]
    }
   ],
   "source": [
    "# Check Even or Odd\n",
    "num = 7\n",
    "\n",
    "if num % 2 == 0:\n",
    "    print(\"Even\")\n",
    "else:\n",
    "    print(\"Odd\")\n"
   ]
  },
  {
   "cell_type": "markdown",
   "metadata": {},
   "source": [
    "## 12. Lists\n",
    "> Think of a list like a grocery list – it holds multiple items.\n",
    "```python\n",
    "fruits = [\"apple\", \"banana\", \"cherry\"]\n",
    "print(fruits[0])  # Outputs: apple\n",
    "```\n",
    "**Breakdown:**\n",
    "- `[]` defines a list\n",
    "- `fruits[0]` accesses the first item (index starts at 0)\n"
   ]
  },
  {
   "cell_type": "markdown",
   "metadata": {},
   "source": [
    "## 13. Dictionaries\n",
    "> A dictionary is like a real dictionary – it pairs a word (key) with a meaning (value).\n",
    "```python\n",
    "person = {\"name\": \"Alice\", \"age\": 25}\n",
    "print(person[\"name\"])  # Outputs: Alice\n",
    "```\n",
    "**Breakdown:**\n",
    "- `{}` defines a dictionary\n",
    "- `\"name\"` is the key, `\"Alice\"` is the value\n"
   ]
  },
  {
   "cell_type": "markdown",
   "metadata": {},
   "source": [
    "## 14. Comparison & Conditional Operators\n",
    "> Used to compare values or make decisions.\n",
    "| Operator | Meaning              |\n",
    "|----------|----------------------|\n",
    "| `==`     | Equal to             |\n",
    "| `!=`     | Not equal to         |\n",
    "| `>`      | Greater than         |\n",
    "| `<`      | Less than            |\n",
    "| `>=`     | Greater or equal to  |\n",
    "| `<=`     | Less or equal to     |\n",
    "| `and`    | Both conditions true |\n",
    "| `or`     | Either condition true|\n",
    "| `not`    | Reverses condition   |\n",
    "```python\n",
    "x = 10\n",
    "y = 5\n",
    "print(x > y and y < 3)  # False\n",
    "```\n"
   ]
  },
  {
   "cell_type": "markdown",
   "metadata": {},
   "source": [
    "## 15. Python Built-in Methods\n",
    "> Built-in methods are ready-made tools in Python.\n",
    "```python\n",
    "text = \"hello\"\n",
    "print(text.upper())  # HELLO\n",
    "print(len(text))     # 5\n",
    "\n",
    "numbers = [1, 2, 3]\n",
    "numbers.append(4)\n",
    "print(numbers)       # [1, 2, 3, 4]\n",
    "```\n",
    "**Breakdown:**\n",
    "- `.upper()` converts string to uppercase\n",
    "- `len()` returns length of a string or list\n",
    "- `.append()` adds item to list\n"
   ]
  },
  {
   "cell_type": "markdown",
   "metadata": {},
   "source": [
    "## 11. Conclusion\n",
    "Python is **friendly**, **powerful**, and the **most-used language** in data science today.\n"
   ]
  },
  {
   "cell_type": "markdown",
   "metadata": {},
   "source": [
    "##  Mini Exercises\n",
    "1. Print your name and age using `print()`.\n",
    "2. Create two variables for a and b. Print their sum, difference, and product.\n",
    "3. Write a function called `square` that returns the square of a number.\n",
    "4. Use a loop to print numbers 1 to 5.\n",
    "5. Use an if-else statement to check if a number is positive or negative.\n"
   ]
  },
  {
   "cell_type": "markdown",
   "id": "fbf7d059",
   "metadata": {},
   "source": [
    "[Slides](https://docs.google.com/presentation/d/1AaNEfoXJRGrl71hnY4J0HsXxAxg5crgWz948jbpPnCo/edit?usp=sharing)"
   ]
  }
 ],
 "metadata": {
  "kernelspec": {
   "display_name": "venv (3.12.0)",
   "language": "python",
   "name": "python3"
  },
  "language_info": {
   "codemirror_mode": {
    "name": "ipython",
    "version": 3
   },
   "file_extension": ".py",
   "mimetype": "text/x-python",
   "name": "python",
   "nbconvert_exporter": "python",
   "pygments_lexer": "ipython3",
   "version": "3.12.0"
  }
 },
 "nbformat": 4,
 "nbformat_minor": 5
}
