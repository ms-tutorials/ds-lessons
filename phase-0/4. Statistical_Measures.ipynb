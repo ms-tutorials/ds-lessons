{
 "cells": [
  {
   "cell_type": "markdown",
   "metadata": {},
   "source": [
    "# Statistical Measures in Data Science - Beginner Lecture"
   ]
  },
  {
   "cell_type": "markdown",
   "metadata": {},
   "source": [
    "## Lessons Today\n",
    "1. Introduction to NumPy\n",
    "2. Measures of Central Tendency\n",
    "3. Measures of Dispersion\n",
    "4. Covariance and Correlation"
   ]
  },
  {
   "cell_type": "code",
   "execution_count": 24,
   "id": "6da4c7db",
   "metadata": {},
   "outputs": [],
   "source": [
    "import numpy as np\n",
    "from scipy import stats\n"
   ]
  },
  {
   "cell_type": "markdown",
   "metadata": {},
   "source": [
    "## 1. Introduction to NumPy"
   ]
  },
  {
   "cell_type": "code",
   "execution_count": 25,
   "metadata": {},
   "outputs": [
    {
     "name": "stdout",
     "output_type": "stream",
     "text": [
      "[10 20 30 40 50]\n"
     ]
    }
   ],
   "source": [
    "# Create a list and convert to NumPy array\n",
    "data = [10, 20, 30, 40, 50]\n",
    "array = np.array(data)\n",
    "print(array)"
   ]
  },
  {
   "cell_type": "markdown",
   "metadata": {},
   "source": [
    "## 2. Measures of Central Tendency"
   ]
  },
  {
   "cell_type": "code",
   "execution_count": 26,
   "metadata": {},
   "outputs": [
    {
     "name": "stdout",
     "output_type": "stream",
     "text": [
      "Mean: 5.0\n",
      "Median: 4.0\n",
      "Mode: 4\n"
     ]
    }
   ],
   "source": [
    "data = [2, 4, 4, 4, 5, 7, 9]\n",
    "\n",
    "mean = np.mean(data)\n",
    "median = np.median(data)\n",
    "mode = stats.mode(data)\n",
    "\n",
    "mode_value = mode.mode\n",
    "\n",
    "print(\"Mean:\", mean)\n",
    "print(\"Median:\", median)\n",
    "print(\"Mode:\", mode_value)"
   ]
  },
  {
   "cell_type": "markdown",
   "metadata": {},
   "source": [
    "### Formula for Mean:\n",
    "Mean = (x1 + x2 + ... + xn) / n"
   ]
  },
  {
   "cell_type": "code",
   "execution_count": 27,
   "metadata": {},
   "outputs": [
    {
     "data": {
      "text/plain": [
       "5.0"
      ]
     },
     "execution_count": 27,
     "metadata": {},
     "output_type": "execute_result"
    }
   ],
   "source": [
    "sum(data) / len(data)"
   ]
  },
  {
   "cell_type": "markdown",
   "metadata": {},
   "source": [
    "## 3. Measures of Dispersion"
   ]
  },
  {
   "cell_type": "code",
   "execution_count": 28,
   "metadata": {},
   "outputs": [
    {
     "name": "stdout",
     "output_type": "stream",
     "text": [
      "Range: 13\n",
      "Variance: 24.0\n",
      "Standard Deviation: 4.898979485566356\n"
     ]
    }
   ],
   "source": [
    "data = [10, 12, 23, 23, 16, 23, 21, 16]\n",
    "\n",
    "range_val = np.max(data) - np.min(data)\n",
    "variance = np.var(data)\n",
    "std_dev = np.std(data)\n",
    "\n",
    "print(\"Range:\", range_val)\n",
    "print(\"Variance:\", variance)\n",
    "print(\"Standard Deviation:\", std_dev)"
   ]
  },
  {
   "cell_type": "markdown",
   "metadata": {},
   "source": [
    "### Formula for Variance:\n",
    "Variance = Σ(x - μ)^2 / n"
   ]
  },
  {
   "cell_type": "code",
   "execution_count": 29,
   "metadata": {},
   "outputs": [
    {
     "data": {
      "text/plain": [
       "24.0"
      ]
     },
     "execution_count": 29,
     "metadata": {},
     "output_type": "execute_result"
    }
   ],
   "source": [
    "mean = sum(data) / len(data)\n",
    "variance = sum((x - mean)**2 for x in data) / len(data)\n",
    "variance"
   ]
  },
  {
   "cell_type": "markdown",
   "metadata": {},
   "source": [
    "## 4. Covariance and Correlation"
   ]
  },
  {
   "cell_type": "code",
   "execution_count": 30,
   "metadata": {},
   "outputs": [
    {
     "name": "stdout",
     "output_type": "stream",
     "text": [
      "Covariance: 2.75\n",
      "Correlation: 0.8315218406202999\n"
     ]
    }
   ],
   "source": [
    "x = [2, 4, 6, 8]\n",
    "y = [1, 3, 2, 5]\n",
    "\n",
    "cov_matrix = np.cov(x, y, bias=True)\n",
    "cov_xy = cov_matrix[0][1]\n",
    "\n",
    "corr_matrix = np.corrcoef(x, y)\n",
    "corr_xy = corr_matrix[0][1]\n",
    "\n",
    "print(\"Covariance:\", cov_xy)\n",
    "print(\"Correlation:\", corr_xy)"
   ]
  },
  {
   "cell_type": "markdown",
   "metadata": {},
   "source": [
    "### Correlation Formula:\n",
    "Correlation = Cov(x, y) / (std_x * std_y)"
   ]
  },
  {
   "cell_type": "code",
   "execution_count": 31,
   "metadata": {},
   "outputs": [
    {
     "data": {
      "text/plain": [
       "np.float64(0.8315218406202998)"
      ]
     },
     "execution_count": 31,
     "metadata": {},
     "output_type": "execute_result"
    }
   ],
   "source": [
    "corr = cov_xy / (np.std(x) * np.std(y))\n",
    "corr"
   ]
  },
  {
   "cell_type": "markdown",
   "metadata": {},
   "source": [
    "##  Mini Exercises\n",
    "1. Create a list of 7 numbers. Calculate mean, median, and mode.\n",
    "2. Find the range, variance, and standard deviation of a sample list.\n",
    "3. Calculate covariance and correlation between two simple lists.\n",
    "4. Write a Python function to compute the mean manually using a loop."
   ]
  },
  {
   "cell_type": "markdown",
   "metadata": {},
   "source": [
    "##  Conclusion and Q&A\n",
    "Statistical measures help us summarize, understand, and **trust** our data.\n",
    "They’re the building blocks for all data analysis work in Data Science.\n",
    "\n",
    "**Any questions? Let’s explore together!**"
   ]
  }
 ],
 "metadata": {
  "kernelspec": {
   "display_name": "venv (3.12.0)",
   "language": "python",
   "name": "python3"
  },
  "language_info": {
   "codemirror_mode": {
    "name": "ipython",
    "version": 3
   },
   "file_extension": ".py",
   "mimetype": "text/x-python",
   "name": "python",
   "nbconvert_exporter": "python",
   "pygments_lexer": "ipython3",
   "version": "3.12.0"
  }
 },
 "nbformat": 4,
 "nbformat_minor": 5
}
