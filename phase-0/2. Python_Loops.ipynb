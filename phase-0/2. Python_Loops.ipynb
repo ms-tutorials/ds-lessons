{
 "cells": [
  {
   "cell_type": "markdown",
   "metadata": {},
   "source": [
    "# Python Loops - Beginner Lecture"
   ]
  },
  {
   "cell_type": "markdown",
   "metadata": {},
   "source": [
    "## What Are Loops?\n",
    "A **loop** is a way to repeat a set of instructions multiple times.\n",
    "In Python, we mainly use two types of loops:\n",
    "- `for` loops\n",
    "- `while` loops"
   ]
  },
  {
   "cell_type": "markdown",
   "metadata": {},
   "source": [
    "## The `for` Loop"
   ]
  },
  {
   "cell_type": "code",
   "execution_count": 1,
   "metadata": {},
   "outputs": [
    {
     "name": "stdout",
     "output_type": "stream",
     "text": [
      "apple\n",
      "banana\n",
      "cherry\n"
     ]
    }
   ],
   "source": [
    "fruits = [\"apple\", \"banana\", \"cherry\"]\n",
    "for fruit in fruits:\n",
    "    print(fruit)"
   ]
  },
  {
   "cell_type": "markdown",
   "metadata": {},
   "source": [
    "## The `while` Loop"
   ]
  },
  {
   "cell_type": "code",
   "execution_count": 2,
   "metadata": {},
   "outputs": [
    {
     "name": "stdout",
     "output_type": "stream",
     "text": [
      "Count is: 1\n",
      "Count is: 2\n",
      "Count is: 3\n"
     ]
    }
   ],
   "source": [
    "count = 1\n",
    "while count <= 3:\n",
    "    print(\"Count is:\", count)\n",
    "    count += 1"
   ]
  },
  {
   "cell_type": "markdown",
   "metadata": {},
   "source": [
    "##  Loop Control Statements"
   ]
  },
  {
   "cell_type": "code",
   "execution_count": 3,
   "metadata": {},
   "outputs": [
    {
     "name": "stdout",
     "output_type": "stream",
     "text": [
      "0\n",
      "1\n",
      "2\n"
     ]
    }
   ],
   "source": [
    "for i in range(5):\n",
    "    if i == 3:\n",
    "        break\n",
    "    print(i)"
   ]
  },
  {
   "cell_type": "code",
   "execution_count": 4,
   "metadata": {},
   "outputs": [
    {
     "name": "stdout",
     "output_type": "stream",
     "text": [
      "0\n",
      "1\n",
      "2\n",
      "4\n"
     ]
    }
   ],
   "source": [
    "for i in range(5):\n",
    "    if i == 3:\n",
    "        continue\n",
    "    print(i)"
   ]
  },
  {
   "cell_type": "code",
   "execution_count": 5,
   "metadata": {},
   "outputs": [
    {
     "name": "stdout",
     "output_type": "stream",
     "text": [
      "0\n",
      "1\n",
      "2\n",
      "3\n",
      "4\n",
      "Loop completed without break\n"
     ]
    }
   ],
   "source": [
    "for i in range(5):\n",
    "    print(i)\n",
    "else:\n",
    "    print(\"Loop completed without break\")"
   ]
  },
  {
   "cell_type": "code",
   "execution_count": 6,
   "metadata": {},
   "outputs": [
    {
     "name": "stdout",
     "output_type": "stream",
     "text": [
      "0\n",
      "1\n",
      "2\n"
     ]
    }
   ],
   "source": [
    "for i in range(5):\n",
    "    if i == 3:\n",
    "        break\n",
    "    print(i)\n",
    "else:\n",
    "    print(\"Loop completed without break\")"
   ]
  },
  {
   "cell_type": "markdown",
   "metadata": {},
   "source": [
    "##  Nested Loops"
   ]
  },
  {
   "cell_type": "code",
   "execution_count": 7,
   "metadata": {},
   "outputs": [
    {
     "name": "stdout",
     "output_type": "stream",
     "text": [
      "Mon Math\n",
      "Mon English\n",
      "Tue Math\n",
      "Tue English\n"
     ]
    }
   ],
   "source": [
    "for day in [\"Mon\", \"Tue\"]:\n",
    "    for subject in [\"Math\", \"English\"]:\n",
    "        print(day, subject)"
   ]
  },
  {
   "cell_type": "markdown",
   "metadata": {},
   "source": [
    "## Loop Examples"
   ]
  },
  {
   "cell_type": "code",
   "execution_count": 8,
   "metadata": {},
   "outputs": [
    {
     "name": "stdout",
     "output_type": "stream",
     "text": [
      "Total: 15\n"
     ]
    }
   ],
   "source": [
    "total = 0\n",
    "for i in range(1, 6):\n",
    "    total += i\n",
    "print(\"Total:\", total)"
   ]
  },
  {
   "cell_type": "markdown",
   "metadata": {},
   "source": [
    "## Best Practices\n",
    "- Keep loop bodies simple and readable.\n",
    "- Avoid deeply nested loops if possible.\n",
    "- Use `break`, `continue`, and `else` wisely.\n",
    "- Always check that your `while` loops end eventually."
   ]
  },
  {
   "cell_type": "markdown",
   "metadata": {},
   "source": [
    "## Mini Exercises\n",
    "1. Print numbers 1 to 10 using a `for` loop\n",
    "2. Use a `while` loop to print \"Python\" 5 times\n",
    "3. Use a `for` loop with `continue` to skip number 3 from 1 to 5\n",
    "4. Create a nested loop for colors and shapes\n",
    "5. Use a loop with `else` to print \"Done\""
   ]
  },
  {
   "cell_type": "markdown",
   "metadata": {},
   "source": [
    "## Conclusion and Q&A\n",
    "Loops help us **automate repetitive tasks**. They are a core part of programming and data processing."
   ]
  },
  {
   "cell_type": "markdown",
   "id": "3fa1886d",
   "metadata": {},
   "source": [
    "[Slides](https://docs.google.com/presentation/d/1_Kfuw-_e-iAlEVE3gakhF3oku0uf-Qh8ZS1n1IsB2rs/edit?usp=sharing)"
   ]
  },
  {
   "cell_type": "markdown",
   "id": "99db9918",
   "metadata": {},
   "source": []
  }
 ],
 "metadata": {
  "kernelspec": {
   "display_name": "venv (3.12.0)",
   "language": "python",
   "name": "python3"
  },
  "language_info": {
   "codemirror_mode": {
    "name": "ipython",
    "version": 3
   },
   "file_extension": ".py",
   "mimetype": "text/x-python",
   "name": "python",
   "nbconvert_exporter": "python",
   "pygments_lexer": "ipython3",
   "version": "3.12.0"
  }
 },
 "nbformat": 4,
 "nbformat_minor": 5
}
