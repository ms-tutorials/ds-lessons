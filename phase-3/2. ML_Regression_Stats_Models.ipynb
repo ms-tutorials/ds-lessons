{
 "cells": [
  {
   "cell_type": "markdown",
   "id": "e0f2747e",
   "metadata": {},
   "source": [
    "# Machine Learning with Multiple Linear Regression\n",
    "\n",
    "## Topics Today:\n",
    "\n",
    "1. Multiple Linear Regression\n",
    "2. Multiple Linear Regression in StatsModels\n",
    "3. Transformation of Linear Models\n",
    "4. Evaluating Multiple Regression (R-squared, Adjusted R-squared)\n",
    "5. Dealing with Categorical Variables\n",
    "6. One-Hot Encoding\n",
    "7. Interpreting One-Hot Encoded Coefficients\n",
    "8. Error Metrics: MAE and RMSE\n",
    "9. Practice Exercises\n",
    "\n",
    "---\n",
    "\n",
    "## 1. Multiple Linear Regression\n",
    "\n",
    "Multiple linear regression helps us predict a value using more than one input variable. Think of predicting house prices using size, number of bedrooms, and location.\n",
    "\n",
    "### Formula:\n",
    "\n",
    "```\n",
    "y = b0 + b1*x1 + b2*x2 + ... + bn*xn\n",
    "```\n",
    "\n",
    "Where:\n",
    "\n",
    "- `y` = predicted value\n",
    "- `x1, x2,..., xn` = input variables\n",
    "- `b0` = intercept\n",
    "- `b1, b2,..., bn` = coefficients for each variable\n",
    "\n",
    "### Python Example:"
   ]
  },
  {
   "cell_type": "code",
   "execution_count": 34,
   "id": "b28e66fd",
   "metadata": {},
   "outputs": [],
   "source": [
    "from sklearn.linear_model import LinearRegression\n",
    "from sklearn.metrics import mean_absolute_error, mean_squared_error, r2_score\n",
    "from sklearn.model_selection import train_test_split\n",
    "from sklearn.preprocessing import StandardScaler\n",
    "import statsmodels.api as sm\n",
    "import pandas as pd\n",
    "import numpy as np\n",
    "import warnings\n",
    "warnings.filterwarnings('ignore')"
   ]
  },
  {
   "cell_type": "code",
   "execution_count": 35,
   "id": "c53c2252",
   "metadata": {},
   "outputs": [
    {
     "name": "stdout",
     "output_type": "stream",
     "text": [
      "[-1.2730274e-13  5.0000000e+04] 100000.00000000006\n"
     ]
    }
   ],
   "source": [
    "# Sample data\n",
    "X = pd.DataFrame({\"size\": [1000, 1500, 1800], \"bedrooms\": [2, 3, 4]})\n",
    "y = [200000, 250000, 300000]\n",
    "\n",
    "model = LinearRegression()\n",
    "model.fit(X, y)\n",
    "print(model.coef_, model.intercept_)"
   ]
  },
  {
   "cell_type": "markdown",
   "id": "535aa11f",
   "metadata": {},
   "source": [
    "**Explanation:**\n",
    "\n",
    "- `X` is a DataFrame with multiple features.\n",
    "- `model.fit(X, y)` trains the model.\n",
    "- `model.coef_` gives weights for each feature.\n",
    "\n",
    "---\n",
    "\n",
    "## 2. Multiple Linear Regression in StatsModels\n",
    "\n",
    "StatsModels gives detailed statistical summaries."
   ]
  },
  {
   "cell_type": "code",
   "execution_count": 36,
   "id": "fb87f317",
   "metadata": {},
   "outputs": [
    {
     "name": "stdout",
     "output_type": "stream",
     "text": [
      "                            OLS Regression Results                            \n",
      "==============================================================================\n",
      "Dep. Variable:                      y   R-squared:                       1.000\n",
      "Model:                            OLS   Adj. R-squared:                    nan\n",
      "Method:                 Least Squares   F-statistic:                       nan\n",
      "Date:                Tue, 12 Aug 2025   Prob (F-statistic):                nan\n",
      "Time:                        15:45:32   Log-Likelihood:                 58.448\n",
      "No. Observations:                   3   AIC:                            -110.9\n",
      "Df Residuals:                       0   BIC:                            -113.6\n",
      "Df Model:                           2                                         \n",
      "Covariance Type:            nonrobust                                         \n",
      "==============================================================================\n",
      "                 coef    std err          t      P>|t|      [0.025      0.975]\n",
      "------------------------------------------------------------------------------\n",
      "const           1e+05        inf          0        nan         nan         nan\n",
      "size                0        inf          0        nan         nan         nan\n",
      "bedrooms        5e+04        inf          0        nan         nan         nan\n",
      "==============================================================================\n",
      "Omnibus:                          nan   Durbin-Watson:                   0.052\n",
      "Prob(Omnibus):                    nan   Jarque-Bera (JB):                0.281\n",
      "Skew:                           0.000   Prob(JB):                        0.869\n",
      "Kurtosis:                       1.500   Cond. No.                     1.45e+04\n",
      "==============================================================================\n",
      "\n",
      "Notes:\n",
      "[1] Standard Errors assume that the covariance matrix of the errors is correctly specified.\n",
      "[2] The condition number is large, 1.45e+04. This might indicate that there are\n",
      "strong multicollinearity or other numerical problems.\n"
     ]
    }
   ],
   "source": [
    "X = sm.add_constant(X)  # Adds intercept\n",
    "model = sm.OLS(y, X).fit()\n",
    "print(model.summary())"
   ]
  },
  {
   "cell_type": "code",
   "execution_count": 37,
   "id": "d86ce9ad",
   "metadata": {},
   "outputs": [
    {
     "data": {
      "text/plain": [
       "(1.0, nan)"
      ]
     },
     "execution_count": 37,
     "metadata": {},
     "output_type": "execute_result"
    }
   ],
   "source": [
    "R2 = model.rsquared\n",
    "adj_r2 = model.rsquared_adj\n",
    "\n",
    "R2, adj_r2"
   ]
  },
  {
   "cell_type": "markdown",
   "id": "fb0b7293",
   "metadata": {},
   "source": [
    "**Use Case:**\n",
    "\n",
    "- When data grows exponentially (e.g. population vs time)\n",
    "\n",
    "---\n",
    "\n",
    "## 4. Regression Model Evaluation\n",
    "\n",
    "### R-squared:\n",
    "\n",
    "- Measures how well the model explains the data (closer to 1 is better).\n",
    "\n",
    "### Adjusted R-squared:\n",
    "\n",
    "- Adjusts for number of predictors (prevents overfitting).\n",
    "\n",
    "### In Code:"
   ]
  },
  {
   "cell_type": "code",
   "execution_count": 38,
   "id": "cb3f99e4",
   "metadata": {},
   "outputs": [
    {
     "name": "stdout",
     "output_type": "stream",
     "text": [
      "[280000. 300000. 400000. 220000.]\n",
      "Coefficients: [ -59160.797831    245967.47752498 -126491.10640674]\n",
      "Intercept: 300000.0\n",
      "Mean Squared Error: 2.541098841762901e-21\n",
      "R2_Squared: 1.0\n"
     ]
    }
   ],
   "source": [
    "# Sample data\n",
    "\n",
    "data = {\n",
    "    'size':  [1000, 1500, 1800, 1200, 2000, 1600],\n",
    "    'bedrooms': [2, 3, 4,2, 5, 3],\n",
    "    'age': [10, 15, 20, 5, 25, 10]\n",
    "}\n",
    "\n",
    "X = pd.DataFrame(data)\n",
    "y = [200000, 250000, 300000, 220000, 400000, 280000]\n",
    "\n",
    "#Train-test split\n",
    "X_train, X_test, y_train, y_test = train_test_split(X, y, test_size=0.2, random_state=42)\n",
    "\n",
    "#Scale the features\n",
    "\n",
    "scaler = StandardScaler()\n",
    "X_train = scaler.fit_transform(X_train)\n",
    "X_test = scaler.fit_transform(X_test)\n",
    "\n",
    "#Create the train model\n",
    "\n",
    "model = LinearRegression()\n",
    "model.fit(X_train, y_train)\n",
    "\n",
    "#Predictions\n",
    "y_pred = model.predict(X_train)\n",
    "\n",
    "# Model Evaluation\n",
    "\n",
    "mse = mean_squared_error(y_train, y_pred)\n",
    "r2 = r2_score(y_train, y_pred)\n",
    "\n",
    "#Output Results\n",
    "print(y_pred)\n",
    "print(\"Coefficients:\", model.coef_)\n",
    "print(\"Intercept:\", model.intercept_)\n",
    "print(\"Mean Squared Error:\", mse)\n",
    "print(\"R2_Squared:\", r2)\n"
   ]
  },
  {
   "cell_type": "markdown",
   "id": "4b762397",
   "metadata": {},
   "source": [
    "---\n",
    "\n",
    "## 5. Dealing with Categorical Variables\n",
    "\n",
    "Models can't use text like \"red\", \"blue\" directly."
   ]
  },
  {
   "cell_type": "code",
   "execution_count": 39,
   "id": "5201e76e",
   "metadata": {},
   "outputs": [
    {
     "data": {
      "text/html": [
       "<div>\n",
       "<style scoped>\n",
       "    .dataframe tbody tr th:only-of-type {\n",
       "        vertical-align: middle;\n",
       "    }\n",
       "\n",
       "    .dataframe tbody tr th {\n",
       "        vertical-align: top;\n",
       "    }\n",
       "\n",
       "    .dataframe thead th {\n",
       "        text-align: right;\n",
       "    }\n",
       "</style>\n",
       "<table border=\"1\" class=\"dataframe\">\n",
       "  <thead>\n",
       "    <tr style=\"text-align: right;\">\n",
       "      <th></th>\n",
       "      <th>color</th>\n",
       "    </tr>\n",
       "  </thead>\n",
       "  <tbody>\n",
       "    <tr>\n",
       "      <th>0</th>\n",
       "      <td>red</td>\n",
       "    </tr>\n",
       "    <tr>\n",
       "      <th>1</th>\n",
       "      <td>blue</td>\n",
       "    </tr>\n",
       "    <tr>\n",
       "      <th>2</th>\n",
       "      <td>red</td>\n",
       "    </tr>\n",
       "  </tbody>\n",
       "</table>\n",
       "</div>"
      ],
      "text/plain": [
       "  color\n",
       "0   red\n",
       "1  blue\n",
       "2   red"
      ]
     },
     "execution_count": 39,
     "metadata": {},
     "output_type": "execute_result"
    }
   ],
   "source": [
    "df = pd.DataFrame({\"color\": [\"red\", \"blue\", \"red\"]})\n",
    "df"
   ]
  },
  {
   "cell_type": "code",
   "execution_count": 40,
   "id": "fd91dc31",
   "metadata": {},
   "outputs": [
    {
     "data": {
      "text/html": [
       "<div>\n",
       "<style scoped>\n",
       "    .dataframe tbody tr th:only-of-type {\n",
       "        vertical-align: middle;\n",
       "    }\n",
       "\n",
       "    .dataframe tbody tr th {\n",
       "        vertical-align: top;\n",
       "    }\n",
       "\n",
       "    .dataframe thead th {\n",
       "        text-align: right;\n",
       "    }\n",
       "</style>\n",
       "<table border=\"1\" class=\"dataframe\">\n",
       "  <thead>\n",
       "    <tr style=\"text-align: right;\">\n",
       "      <th></th>\n",
       "      <th>color</th>\n",
       "      <th>value</th>\n",
       "    </tr>\n",
       "  </thead>\n",
       "  <tbody>\n",
       "    <tr>\n",
       "      <th>0</th>\n",
       "      <td>red</td>\n",
       "      <td>1</td>\n",
       "    </tr>\n",
       "    <tr>\n",
       "      <th>1</th>\n",
       "      <td>blue</td>\n",
       "      <td>2</td>\n",
       "    </tr>\n",
       "    <tr>\n",
       "      <th>2</th>\n",
       "      <td>red</td>\n",
       "      <td>3</td>\n",
       "    </tr>\n",
       "  </tbody>\n",
       "</table>\n",
       "</div>"
      ],
      "text/plain": [
       "  color  value\n",
       "0   red      1\n",
       "1  blue      2\n",
       "2   red      3"
      ]
     },
     "execution_count": 40,
     "metadata": {},
     "output_type": "execute_result"
    }
   ],
   "source": [
    "df = pd.DataFrame({\"color\": [\"red\", \"blue\", \"red\"], \"value\": [1, 2, 3]})\n",
    "df"
   ]
  },
  {
   "cell_type": "markdown",
   "id": "c71fe8bc",
   "metadata": {},
   "source": [
    "---\n",
    "\n",
    "## 6. One-Hot Encoding"
   ]
  },
  {
   "cell_type": "code",
   "execution_count": 41,
   "id": "edc8a16d",
   "metadata": {},
   "outputs": [
    {
     "data": {
      "text/html": [
       "<div>\n",
       "<style scoped>\n",
       "    .dataframe tbody tr th:only-of-type {\n",
       "        vertical-align: middle;\n",
       "    }\n",
       "\n",
       "    .dataframe tbody tr th {\n",
       "        vertical-align: top;\n",
       "    }\n",
       "\n",
       "    .dataframe thead th {\n",
       "        text-align: right;\n",
       "    }\n",
       "</style>\n",
       "<table border=\"1\" class=\"dataframe\">\n",
       "  <thead>\n",
       "    <tr style=\"text-align: right;\">\n",
       "      <th></th>\n",
       "      <th>value</th>\n",
       "      <th>color_red</th>\n",
       "    </tr>\n",
       "  </thead>\n",
       "  <tbody>\n",
       "    <tr>\n",
       "      <th>0</th>\n",
       "      <td>1</td>\n",
       "      <td>True</td>\n",
       "    </tr>\n",
       "    <tr>\n",
       "      <th>1</th>\n",
       "      <td>2</td>\n",
       "      <td>False</td>\n",
       "    </tr>\n",
       "    <tr>\n",
       "      <th>2</th>\n",
       "      <td>3</td>\n",
       "      <td>True</td>\n",
       "    </tr>\n",
       "  </tbody>\n",
       "</table>\n",
       "</div>"
      ],
      "text/plain": [
       "   value  color_red\n",
       "0      1       True\n",
       "1      2      False\n",
       "2      3       True"
      ]
     },
     "execution_count": 41,
     "metadata": {},
     "output_type": "execute_result"
    }
   ],
   "source": [
    "df_encoded = pd.get_dummies(df, columns=[\"color\"], drop_first=True)\n",
    "df_encoded"
   ]
  },
  {
   "cell_type": "markdown",
   "id": "5ce7f0b5",
   "metadata": {},
   "source": [
    "**Result:**\n",
    "\n",
    "- Replaces \"color\" with `color_red` (0 or 1)\n",
    "\n",
    "---\n",
    "\n",
    "## 7. Interpreting Encoded Coefficients\n",
    "\n",
    "Each binary column's coefficient tells how much that category increases or decreases the prediction compared to the baseline (the dropped category).\n",
    "\n"
   ]
  },
  {
   "cell_type": "code",
   "execution_count": 42,
   "id": "70c1209f",
   "metadata": {},
   "outputs": [
    {
     "name": "stdout",
     "output_type": "stream",
     "text": [
      "                            OLS Regression Results                            \n",
      "==============================================================================\n",
      "Dep. Variable:           Satisfaction   R-squared:                       0.886\n",
      "Model:                            OLS   Adj. R-squared:                  0.772\n",
      "Method:                 Least Squares   F-statistic:                     7.776\n",
      "Date:                Tue, 12 Aug 2025   Prob (F-statistic):              0.114\n",
      "Time:                        15:45:32   Log-Likelihood:                -10.154\n",
      "No. Observations:                   5   AIC:                             26.31\n",
      "Df Residuals:                       2   BIC:                             25.14\n",
      "Df Model:                           2                                         \n",
      "Covariance Type:            nonrobust                                         \n",
      "===============================================================================\n",
      "                  coef    std err          t      P>|t|      [0.025      0.975]\n",
      "-------------------------------------------------------------------------------\n",
      "const          13.5000      2.062      6.548      0.023       4.630      22.370\n",
      "Color_green    -3.5000      3.571     -0.980      0.430     -18.864      11.864\n",
      "Color_red       9.0000      2.915      3.087      0.091      -3.544      21.544\n",
      "==============================================================================\n",
      "Omnibus:                          nan   Durbin-Watson:                   2.382\n",
      "Prob(Omnibus):                    nan   Jarque-Bera (JB):                0.452\n",
      "Skew:                           0.000   Prob(JB):                        0.798\n",
      "Kurtosis:                       1.527   Cond. No.                         3.60\n",
      "==============================================================================\n",
      "\n",
      "Notes:\n",
      "[1] Standard Errors assume that the covariance matrix of the errors is correctly specified.\n"
     ]
    }
   ],
   "source": [
    "data = {\n",
    "    'Color': ['red', 'blue', 'green', 'red', 'blue'],\n",
    "    'Satisfaction': [20, 15, 10, 25, 12]\n",
    "    \n",
    "}\n",
    "\n",
    "df = pd.DataFrame(data)\n",
    "\n",
    "#One-hot-encoding\n",
    "df_encoded = pd.get_dummies(df, columns=['Color'], drop_first=True).astype(int)\n",
    "\n",
    "# \n",
    "\n",
    "#Fit the model\n",
    "X = df_encoded.drop('Satisfaction', axis=1)\n",
    "y = df_encoded['Satisfaction']\n",
    "\n",
    "X = sm.add_constant(X) #Adding the constant for intercept\n",
    "\n",
    "model = sm.OLS(y, X).fit()\n",
    "\n",
    "print(model.summary())"
   ]
  },
  {
   "cell_type": "markdown",
   "id": "afdad7fb",
   "metadata": {},
   "source": [
    "---\n",
    "\n",
    "## 8. Error Metrics: MSE, MAE and RMSE\n",
    "\n",
    "### Formulas:\n",
    "\n",
    "```\n",
    "MAE = (1/n) * Σ |yi - ŷi|\n",
    "RMSE = sqrt( (1/n) * Σ (yi - ŷi)^2 )\n",
    "```\n",
    "\n",
    "### Python Equivalent"
   ]
  },
  {
   "cell_type": "markdown",
   "id": "c73c75cd",
   "metadata": {},
   "source": [
    "Model Predicts = $1.20 , $2.00, $2.50\n",
    "Actual Prices = $1.00, $2.10, $2.40"
   ]
  },
  {
   "cell_type": "code",
   "execution_count": 43,
   "id": "22c08d4c",
   "metadata": {},
   "outputs": [
    {
     "name": "stdout",
     "output_type": "stream",
     "text": [
      "MEAN Absolute Error -0.06666666666666665\n",
      "MEAN Squared Error 0.004444444444444443\n",
      "Root MEAN Squared Error 0.06666666666666665\n"
     ]
    }
   ],
   "source": [
    "#Actual Vlues\n",
    "y_actual = np.array([1.00, 2.10, 2.40])\n",
    "\n",
    "\n",
    "#Predicted Values\n",
    "y_predicted = np.array([1.20,2.00, 2.50])\n",
    "\n",
    "#Calculated MAE\n",
    "mae = (np.mean(np.abs(y_actual) - y_predicted))\n",
    "\n",
    "print(\"MEAN Absolute Error\", mae)\n",
    "\n",
    "#Calculated MSE\n",
    "mse = (np.mean(y_actual - y_predicted) ** 2)\n",
    "\n",
    "print(\"MEAN Squared Error\", mse)\n",
    "\n",
    "\n",
    "#Calculated RMSE\n",
    "rmse = np.sqrt(mse)\n",
    "\n",
    "print(\"Root MEAN Squared Error\", rmse)\n"
   ]
  },
  {
   "cell_type": "code",
   "execution_count": 44,
   "id": "700d74bb",
   "metadata": {},
   "outputs": [],
   "source": [
    "true = [3, -0.5, 2]\n",
    "pred = [2.5, 0.0, 2]\n",
    "\n",
    "mae = mean_absolute_error(true, pred)\n",
    "rmse = np.sqrt(mean_squared_error(true, pred))"
   ]
  },
  {
   "cell_type": "markdown",
   "id": "ea5b2580",
   "metadata": {},
   "source": [
    "---\n",
    "\n",
    "## 9. Practice Exercises\n",
    "\n",
    "1. Create a linear regression model using two or more features.\n",
    "2. Use StatsModels to evaluate the regression with `.summary()`.\n",
    "3. Try applying a log transformation on one variable.\n",
    "4. Encode a categorical variable using one-hot encoding.\n",
    "5. Interpret the adjusted R-squared from your model.\n",
    "6. Calculate MAE and RMSE of your model predictions.\n",
    "\n",
    "---\n",
    "\n",
    "## Summary\n",
    "\n",
    "- Multiple linear regression is a foundational ML technique.\n",
    "- StatsModels gives a deeper look into the math behind the model.\n",
    "- One-hot encoding is crucial for categorical variables.\n",
    "- R-squared, MAE, and RMSE help assess model performance.\n",
    "\n",
    "Next step: Practice with real datasets and interpret your results statistically and practically."
   ]
  }
 ],
 "metadata": {
  "kernelspec": {
   "display_name": "venv",
   "language": "python",
   "name": "python3"
  },
  "language_info": {
   "codemirror_mode": {
    "name": "ipython",
    "version": 3
   },
   "file_extension": ".py",
   "mimetype": "text/x-python",
   "name": "python",
   "nbconvert_exporter": "python",
   "pygments_lexer": "ipython3",
   "version": "3.12.0"
  }
 },
 "nbformat": 4,
 "nbformat_minor": 5
}
