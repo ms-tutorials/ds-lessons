{
 "cells": [
  {
   "cell_type": "markdown",
   "id": "07405c25",
   "metadata": {},
   "source": [
    "# Introduction to Machine Learning\n",
    "\n",
    "## What is Machine Learning?\n",
    "\n",
    "Machine Learning (ML) is a method of teaching computers to learn patterns and make decisions from data instead of being explicitly programmed. Think of it like teaching a child to recognize animals not by writing out rules but by showing pictures and naming them.\n",
    "\n",
    "---\n",
    "\n",
    "## A Brief History of Machine Learning\n",
    "\n",
    "- **1950s**: Alan Turing asked, \"Can machines think?\" leading to the famous Turing Test.\n",
    "- **1959**: Arthur Samuel coined the term \"Machine Learning.\"\n",
    "- **1980s**: Neural networks gained attention.\n",
    "- **2010s**: Massive data, improved hardware, and algorithms led to today's AI boom.\n",
    "\n",
    "**Anecdote**: Just like a student needs good notes and practice to pass exams, machines need lots of data and smart algorithms to make good predictions.\n",
    "\n",
    "---\n",
    "\n",
    "## Key Terminology\n",
    "\n",
    "| Term          | Meaning                                                       |\n",
    "| ------------- | ------------------------------------------------------------- |\n",
    "| Algorithm     | A set of steps the computer follows to learn from data        |\n",
    "| Model         | The final product after training, used for making predictions |\n",
    "| Training Data | Data the model learns from                                    |\n",
    "| Test Data     | Data used to check how well the model performs                |\n",
    "| Features      | Input variables                                               |\n",
    "| Labels        | Output variable (what we want to predict)                     |\n",
    "\n",
    "---\n",
    "\n",
    "## Types of Machine Learning\n",
    "\n",
    "1. **Supervised Learning**\n",
    "2. **Unsupervised Learning**\n",
    "3. **Reinforcement Learning**\n",
    "\n",
    "---\n",
    "\n",
    "## Supervised Learning Techniques\n",
    "\n",
    "- Involves labeled data (we know the correct answer)\n",
    "\n",
    "**Examples**:\n",
    "\n",
    "- Predicting house prices\n",
    "- Classifying emails as spam or not\n",
    "\n",
    "### Example:"
   ]
  },
  {
   "cell_type": "code",
   "execution_count": 10,
   "id": "933adb2e",
   "metadata": {},
   "outputs": [
    {
     "name": "stdout",
     "output_type": "stream",
     "text": [
      "[12.]\n"
     ]
    }
   ],
   "source": [
    "from sklearn.linear_model import LinearRegression\n",
    "from sklearn.metrics import mean_squared_error\n",
    "from sklearn.cluster import KMeans\n",
    "import numpy as np\n",
    "import warnings\n",
    "warnings.filterwarnings('ignore')\n",
    "\n",
    "# Input (feature)\n",
    "X = np.array([[1], [2], [3], [4], [5]])\n",
    "# Output (label)\n",
    "y = np.array([2, 4, 6, 8, 10])\n",
    "\n",
    "model = LinearRegression()\n",
    "model.fit(X, y)\n",
    "print(model.predict([[6]]))  # Predicts value for y = 12"
   ]
  },
  {
   "cell_type": "markdown",
   "id": "2d259ee9",
   "metadata": {},
   "source": [
    "**Explanation**:\n",
    "\n",
    "- We give the model `X` and `y` to learn the pattern.\n",
    "- It learns that `y = 2x`.\n",
    "- Then it predicts the value for `y = 12`.\n",
    "\n",
    "---\n",
    "\n",
    "## Unsupervised Learning Techniques\n",
    "\n",
    "- No labels. The model finds patterns by itself.\n",
    "\n",
    "**Examples**:\n",
    "\n",
    "- Customer segmentation\n",
    "- Topic discovery in documents\n",
    "\n",
    "### Example:"
   ]
  },
  {
   "cell_type": "code",
   "execution_count": 11,
   "id": "94a47b4e",
   "metadata": {},
   "outputs": [
    {
     "name": "stdout",
     "output_type": "stream",
     "text": [
      "[0 0 0 1 1 1]\n"
     ]
    }
   ],
   "source": [
    "# Data without labels\n",
    "X = np.array([[1, 2], [1, 4], [1, 0], [10, 2], [10, 4], [10, 0]])\n",
    "\n",
    "model = KMeans(n_clusters=2)\n",
    "model.fit(X)\n",
    "print(model.labels_)  # Which cluster each point belongs to"
   ]
  },
  {
   "cell_type": "markdown",
   "id": "1a3d1a7e",
   "metadata": {},
   "source": [
    "**Explanation**:\n",
    "\n",
    "- It finds two groups based on similarity.\n",
    "- No guidance needed!\n",
    "\n",
    "---\n",
    "\n",
    "## Reinforcement Learning\n",
    "\n",
    "- Learns by trial and error.\n",
    "\n",
    "**Analogy**: Teaching a dog tricks by giving treats. The dog learns what actions lead to rewards.\n",
    "\n",
    "**Applications**:\n",
    "\n",
    "- Game playing (e.g. AlphaGo)\n",
    "- Robotics\n",
    "\n",
    "---\n",
    "\n"
   ]
  },
  {
   "cell_type": "code",
   "execution_count": 12,
   "id": "7cbbddf9",
   "metadata": {},
   "outputs": [
    {
     "name": "stdout",
     "output_type": "stream",
     "text": [
      "Final Q-Table:\n",
      "[[1.78881228e-01 9.50990050e-01 3.69389520e-06 1.78889526e-01]\n",
      " [4.71947511e-03 0.00000000e+00 0.00000000e+00 0.00000000e+00]\n",
      " [0.00000000e+00 0.00000000e+00 0.00000000e+00 0.00000000e+00]\n",
      " [0.00000000e+00 0.00000000e+00 0.00000000e+00 0.00000000e+00]\n",
      " [9.51379317e-02 9.60596010e-01 0.00000000e+00 1.78981853e-01]\n",
      " [0.00000000e+00 0.00000000e+00 0.00000000e+00 0.00000000e+00]\n",
      " [0.00000000e+00 0.00000000e+00 0.00000000e+00 0.00000000e+00]\n",
      " [0.00000000e+00 0.00000000e+00 0.00000000e+00 0.00000000e+00]\n",
      " [1.05950762e-04 0.00000000e+00 9.70299000e-01 2.88597503e-04]\n",
      " [1.82521023e-01 9.80100000e-01 9.56146023e-03 0.00000000e+00]\n",
      " [2.62586939e-01 0.00000000e+00 0.00000000e+00 0.00000000e+00]\n",
      " [0.00000000e+00 0.00000000e+00 0.00000000e+00 0.00000000e+00]\n",
      " [0.00000000e+00 0.00000000e+00 0.00000000e+00 0.00000000e+00]\n",
      " [0.00000000e+00 9.80100000e-02 9.90000000e-01 1.05606941e-01]\n",
      " [3.82057904e-01 2.25673746e-01 1.00000000e+00 1.82112743e-02]\n",
      " [0.00000000e+00 0.00000000e+00 0.00000000e+00 0.00000000e+00]]\n"
     ]
    }
   ],
   "source": [
    "import gym\n",
    "import numpy as np\n",
    "import random\n",
    "\n",
    "# 1. Create the environment\n",
    "env = gym.make(\"FrozenLake-v1\", is_slippery=False)  # slippery=False to make it easier\n",
    "\n",
    "# 2. Initialize Q-table\n",
    "q_table = np.zeros((env.observation_space.n, env.action_space.n))\n",
    "\n",
    "# 3. Set parameters\n",
    "num_episodes = 1000\n",
    "learning_rate = 0.1\n",
    "discount_factor = 0.99\n",
    "exploration_rate = 1.0\n",
    "min_exploration = 0.01\n",
    "exploration_decay = 0.001\n",
    "\n",
    "# 4. Training Loop\n",
    "for episode in range(num_episodes):\n",
    "    state = env.reset()[0]\n",
    "    done = False\n",
    "\n",
    "    while not done:\n",
    "        # 4a. Choose action (explore or exploit)\n",
    "        if random.uniform(0, 1) < exploration_rate:\n",
    "            action = env.action_space.sample()  # Explore\n",
    "        else:\n",
    "            action = np.argmax(q_table[state])  # Exploit (best known)\n",
    "\n",
    "        # 4b. Take action\n",
    "        new_state, reward, done, _, _ = env.step(action)\n",
    "\n",
    "        # 4c. Update Q-table\n",
    "        old_value = q_table[state, action]\n",
    "        next_max = np.max(q_table[new_state])\n",
    "\n",
    "        # Q-learning formula\n",
    "        q_table[state, action] = old_value + learning_rate * (reward + discount_factor * next_max - old_value)\n",
    "\n",
    "        state = new_state\n",
    "\n",
    "    # 4d. Reduce exploration over time\n",
    "    exploration_rate = max(min_exploration, exploration_rate * np.exp(-exploration_decay * episode))\n",
    "\n",
    "# 5. Print final Q-table\n",
    "print(\"Final Q-Table:\")\n",
    "print(q_table)\n"
   ]
  },
  {
   "cell_type": "markdown",
   "id": "0e4bdcff",
   "metadata": {},
   "source": [
    "## Popular Frameworks and Tools\n",
    "\n",
    "- **Scikit-Learn**: Easy-to-use for classical ML\n",
    "- **TensorFlow / Keras**: Deep learning\n",
    "- **PyTorch**: Popular with researchers\n",
    "\n",
    "---\n",
    "\n",
    "## Data Preprocessing and Feature Engineering\n",
    "\n",
    "Before training:\n",
    "\n",
    "1. Clean the data (handle missing values)\n",
    "2. Encode categorical variables\n",
    "3. Normalize or scale features\n",
    "\n",
    "**Why?** Garbage in, garbage out. The model learns from the data, so clean and meaningful data matters!\n",
    "\n",
    "---\n",
    "\n",
    "## Model Evaluation and Assessment\n",
    "\n",
    "| Metric           | Use Case                    |\n",
    "| ---------------- | --------------------------- |\n",
    "| Accuracy         | Classification tasks        |\n",
    "| MAE, RMSE        | Regression tasks            |\n",
    "| Confusion Matrix | Check classification errors |\n",
    "\n",
    "### Example:"
   ]
  },
  {
   "cell_type": "code",
   "execution_count": 13,
   "id": "d61dab9b",
   "metadata": {},
   "outputs": [
    {
     "name": "stdout",
     "output_type": "stream",
     "text": [
      "MSE: 0.4166666666666667\n"
     ]
    }
   ],
   "source": [
    "actual = [3, 5, 7]\n",
    "predicted = [2.5, 5, 8]\n",
    "\n",
    "mse = mean_squared_error(actual, predicted)\n",
    "print(\"MSE:\", mse)"
   ]
  },
  {
   "cell_type": "markdown",
   "id": "81b72d26",
   "metadata": {},
   "source": [
    "---\n",
    "\n",
    "## Ethical Considerations in Machine Learning\n",
    "\n",
    "- **Bias**: Models can reflect societal biases present in data\n",
    "- **Privacy**: ML models can leak sensitive info\n",
    "- **Transparency**: \"Black box\" models are hard to explain\n",
    "\n",
    "**Remember**: With great power comes great responsibility.\n",
    "\n",
    "---\n",
    "\n",
    "## Exercises\n",
    "\n",
    "1. Load a dataset using `sklearn.datasets.load_iris()` and apply a classifier.\n",
    "2. Try clustering with KMeans using random 2D points.\n",
    "3. Add missing values to a dataset and try handling them with Pandas.\n",
    "4. Train a linear regression model and evaluate it with MAE.\n",
    "\n",
    "---\n",
    "\n",
    "## Summary\n",
    "\n",
    "- Machine learning helps systems learn patterns from data.\n",
    "- Different types of ML are suited for different problems.\n",
    "- Always clean your data before modeling.\n",
    "- Evaluation and ethics are crucial to responsible ML.\n",
    "\n",
    "You're now ready to start your Machine Learning journey!"
   ]
  }
 ],
 "metadata": {
  "kernelspec": {
   "display_name": "venv (3.12.0)",
   "language": "python",
   "name": "python3"
  },
  "language_info": {
   "codemirror_mode": {
    "name": "ipython",
    "version": 3
   },
   "file_extension": ".py",
   "mimetype": "text/x-python",
   "name": "python",
   "nbconvert_exporter": "python",
   "pygments_lexer": "ipython3",
   "version": "3.12.0"
  }
 },
 "nbformat": 4,
 "nbformat_minor": 5
}
