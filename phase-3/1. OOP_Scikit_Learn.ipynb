{
 "cells": [
  {
   "cell_type": "markdown",
   "id": "57348963",
   "metadata": {},
   "source": [
    "# Object Oriented Programming with Scikit-Learn\n",
    "\n",
    "## Topics Today:\n",
    "\n",
    "1. The Four Main Inherited Object Types in Scikit-Learn\n",
    "2. Transformers (e.g., StandardScaler)\n",
    "3. Classifiers (e.g., LogisticRegression)\n",
    "4. Regressors (e.g., LinearRegression)\n",
    "5. Clusterers (e.g., KMeans)\n",
    "6. Practice Exercises\n",
    "\n",
    "---\n",
    "\n",
    "## Introduction: Why Scikit-Learn and OOP Matter in Data Science\n",
    "\n",
    "Object-Oriented Programming (OOP) helps organize code using objects, just like organizing your wardrobe into drawers: socks in one, shirts in another. Scikit-Learn is built using this system, making machine learning workflows easier to build, extend, and reuse.\n",
    "\n",
    "At the heart of Scikit-Learn is the class `BaseEstimator`, which provides a common structure for all learning algorithms and data transformers. From this base, other object types are inherited.\n",
    "\n",
    "---\n",
    "\n",
    "## 1. The Four Main Inherited Object Types\n",
    "\n",
    "Every model or transformer in Scikit-Learn is one of these types:\n",
    "\n",
    "### 1. Transformers\n",
    "\n",
    "Used to change or prepare data.\n",
    "\n",
    "### 2. Classifiers\n",
    "\n",
    "Used to predict categories (like spam vs not-spam).\n",
    "\n",
    "### 3. Regressors\n",
    "\n",
    "Used to predict numbers (like house prices).\n",
    "\n",
    "### 4. Clusterers\n",
    "\n",
    "Used to group data (like segmenting customers).\n",
    "\n",
    "All these classes have the following methods:\n",
    "\n",
    "- `.fit()` - learns from the data\n",
    "- `.transform()` - modifies data (for Transformers)\n",
    "- `.predict()` - makes predictions (for Classifiers, Regressors, Clusterers)\n",
    "\n",
    "---\n",
    "\n",
    "## 2. Transformers (Example: StandardScaler)\n",
    "\n",
    "Transformers help prepare your data, like scaling features to a standard range.\n",
    "\n",
    "### Code:"
   ]
  },
  {
   "cell_type": "code",
   "execution_count": 1,
   "id": "68fb738e",
   "metadata": {},
   "outputs": [
    {
     "data": {
      "text/plain": [
       "array([[-1.22474487, -1.22474487],\n",
       "       [ 0.        ,  0.        ],\n",
       "       [ 1.22474487,  1.22474487]])"
      ]
     },
     "execution_count": 1,
     "metadata": {},
     "output_type": "execute_result"
    }
   ],
   "source": [
    "from sklearn.preprocessing import StandardScaler\n",
    "from sklearn.linear_model import LogisticRegression\n",
    "from sklearn.linear_model import LinearRegression\n",
    "from sklearn.cluster import KMeans\n",
    "import numpy as np\n",
    "\n",
    "X = np.array([[1, 2], [3, 4], [5, 6]])\n",
    "scaler = StandardScaler()\n",
    "scaler.fit(X)           # Learns the mean and std\n",
    "X_scaled = scaler.transform(X)  # Applies the transformation\n",
    "X_scaled"
   ]
  },
  {
   "cell_type": "markdown",
   "id": "e8aaafe9",
   "metadata": {},
   "source": [
    "**Line-by-line:**\n",
    "\n",
    "- `StandardScaler()` creates a transformer object.\n",
    "- `.fit(X)` calculates the mean and std dev.\n",
    "- `.transform(X)` scales the values.\n",
    "\n",
    "---\n",
    "\n",
    "## 3. Classifiers (Example: LogisticRegression)\n",
    "\n",
    "Used to predict categories.\n",
    "\n",
    "### Code:"
   ]
  },
  {
   "cell_type": "code",
   "execution_count": 2,
   "id": "baf68957",
   "metadata": {},
   "outputs": [
    {
     "name": "stdout",
     "output_type": "stream",
     "text": [
      "[1]\n"
     ]
    }
   ],
   "source": [
    "X = [[0], [1], [2], [3]]\n",
    "y = [0, 0, 1, 1]\n",
    "\n",
    "clf = LogisticRegression()\n",
    "clf.fit(X, y)\n",
    "print(clf.predict([[1.5]]))"
   ]
  },
  {
   "cell_type": "markdown",
   "id": "860d0c91",
   "metadata": {},
   "source": [
    "**Explanation:**\n",
    "\n",
    "- `LogisticRegression()` initializes the classifier.\n",
    "- `.fit(X, y)` learns from labeled data.\n",
    "- `.predict([[1.5]])` guesses the label for 1.5.\n",
    "\n",
    "---\n",
    "\n",
    "## 4. Regressors (Example: LinearRegression)\n",
    "\n",
    "Used when the output is a continuous number.\n",
    "\n",
    "### Code:"
   ]
  },
  {
   "cell_type": "code",
   "execution_count": 3,
   "id": "8378ae3a",
   "metadata": {},
   "outputs": [
    {
     "name": "stdout",
     "output_type": "stream",
     "text": [
      "[9.5]\n"
     ]
    }
   ],
   "source": [
    "X = [[1], [2], [3], [4]]\n",
    "y = [1.5, 3.5, 5.5, 7.5]\n",
    "\n",
    "reg = LinearRegression()\n",
    "reg.fit(X, y)\n",
    "print(reg.predict([[5]]))"
   ]
  },
  {
   "cell_type": "markdown",
   "id": "4077aeb0",
   "metadata": {},
   "source": [
    "**Explanation:**\n",
    "\n",
    "- Learns the equation of a line from data.\n",
    "- Predicts the y-value for a new x.\n",
    "\n",
    "### Formula:\n",
    "\n",
    "```\n",
    "y = mx + b\n",
    "```\n",
    "\n",
    "**Python Equivalent:**"
   ]
  },
  {
   "cell_type": "code",
   "execution_count": 4,
   "id": "66f15714",
   "metadata": {},
   "outputs": [],
   "source": [
    "m = reg.coef_[0]  # slope\n",
    "b = reg.intercept_  # intercept\n",
    "y = m * 5 + b"
   ]
  },
  {
   "cell_type": "markdown",
   "id": "20d7ed93",
   "metadata": {},
   "source": [
    "---\n",
    "\n",
    "## 5. Clusterers (Example: KMeans)\n",
    "\n",
    "Used for unsupervised grouping of data.\n",
    "\n",
    "### Code:"
   ]
  },
  {
   "cell_type": "code",
   "execution_count": 5,
   "id": "bd9f1d65",
   "metadata": {},
   "outputs": [
    {
     "name": "stdout",
     "output_type": "stream",
     "text": [
      "[1 0]\n"
     ]
    }
   ],
   "source": [
    "X = [[1], [2], [10], [11]]\n",
    "kmeans = KMeans(n_clusters=2, random_state=0)\n",
    "kmeans.fit(X)\n",
    "print(kmeans.predict([[0], [12]]))"
   ]
  },
  {
   "cell_type": "markdown",
   "id": "1144cd76",
   "metadata": {},
   "source": [
    "**Explanation:**\n",
    "\n",
    "- `n_clusters=2`: looking for 2 groups.\n",
    "- `.fit(X)`: finds the centers.\n",
    "- `.predict(...)`: assigns new data to the nearest group.\n",
    "\n",
    "---\n",
    "\n",
    "## Summary\n",
    "\n",
    "- Scikit-Learn is built with OOP principles to standardize model workflows.\n",
    "- Every estimator follows `.fit()` and either `.transform()` or `.predict()`.\n",
    "- Transformers prep data, classifiers and regressors make predictions, clusterers find structure.\n",
    "- Understanding these types helps you build reusable machine learning pipelines.\n",
    "\n",
    "Next Step: Explore Scikit-Learn Pipelines to automate end-to-end workflows!"
   ]
  }
 ],
 "metadata": {
  "kernelspec": {
   "display_name": "venv",
   "language": "python",
   "name": "python3"
  },
  "language_info": {
   "codemirror_mode": {
    "name": "ipython",
    "version": 3
   },
   "file_extension": ".py",
   "mimetype": "text/x-python",
   "name": "python",
   "nbconvert_exporter": "python",
   "pygments_lexer": "ipython3",
   "version": "3.12.0"
  }
 },
 "nbformat": 4,
 "nbformat_minor": 5
}
