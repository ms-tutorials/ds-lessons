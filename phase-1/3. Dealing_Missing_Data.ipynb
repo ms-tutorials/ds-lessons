{
  "cells": [
    {
      "cell_type": "markdown",
      "id": "3037ca9c",
      "metadata": {},
      "source": [
        "# Dealing with Missing Data and Essential Data Cleaning in Pandas\n",
        "\n",
        "## Topics Covered:\n",
        "\n",
        "1. Dealing with Missing Data\n",
        "2. Lambda Functions\n",
        "3. Data Cleaning in Pandas (Outliers, Duplicates, etc.)\n",
        "4. Pandas Groupby\n",
        "5. Combining DataFrames With Pandas\n",
        "6. Pivot Tables With Pandas\n",
        "7. Practice Exercises\n",
        "\n",
        "---\n",
        "\n",
        "## 1. Dealing with Missing Data\n",
        "\n",
        "### Why It Matters:\n",
        "\n",
        "Imagine you're baking a cake and one of the ingredients is missing. You can either guess, replace it, or skip it - same thing in data. Missing data can lead to incorrect conclusions if not handled properly.\n",
        "\n"
      ]
    },
    {
      "cell_type": "code",
      "execution_count": 1,
      "id": "44bd8448",
      "metadata": {},
      "outputs": [],
      "source": [
        "import pandas as pd\n",
        "import seaborn as sns\n",
        "import matplotlib.pyplot as plt\n",
        "import warnings\n",
        "warnings.filterwarnings('ignore')"
      ]
    },
    {
      "cell_type": "markdown",
      "id": "01682a9a",
      "metadata": {},
      "source": [
        "### Detecting Missing Data:"
      ]
    },
    {
      "cell_type": "code",
      "execution_count": 2,
      "id": "55b84629",
      "metadata": {},
      "outputs": [
        {
          "name": "stdout",
          "output_type": "stream",
          "text": [
            "   OrderID  Product  Category  Sales  Quantity  Region\n",
            "0    False    False     False  False     False   False\n",
            "1    False    False     False  False     False   False\n",
            "2    False     True     False  False      True   False\n",
            "3    False    False      True  False     False   False\n",
            "4    False    False     False   True     False   False\n",
            "5    False    False     False  False     False    True\n",
            "6    False    False     False  False     False   False\n",
            "7    False    False     False  False      True   False\n",
            "8    False    False      True  False     False   False\n",
            "9    False     True     False   True     False   False\n",
            "\n",
            "\n",
            "OrderID     0\n",
            "Product     2\n",
            "Category    2\n",
            "Sales       2\n",
            "Quantity    2\n",
            "Region      1\n",
            "dtype: int64\n"
          ]
        }
      ],
      "source": [
        "df = pd.read_csv(\"./data/sales_data.csv\")\n",
        "print(df.isnull())        # Shows True for missing entries\n",
        "print(\"\\n\")\n",
        "print(df.isnull().sum())  # Counts missing values per column"
      ]
    },
    {
      "cell_type": "markdown",
      "id": "e1b87480",
      "metadata": {},
      "source": [
        "###  Visualizing Missing Data"
      ]
    },
    {
      "cell_type": "code",
      "execution_count": 3,
      "id": "df2190a6",
      "metadata": {},
      "outputs": [
        {
          "data": {
            "image/png": "[encoded data removed]",
            "text/plain": [
              "<Figure size 1000x600 with 2 Axes>"
            ]
          },
          "metadata": {},
          "output_type": "display_data"
        }
      ],
      "source": [
        "# Plot a heatmap to show missing values\n",
        "plt.figure(figsize=(10, 6))\n",
        "sns.heatmap(df.isnull(), cmap=\"YlOrRd\")\n",
        "plt.title(\"Missing Data Heatmap\")\n",
        "plt.show()"
      ]
    },
    {
      "cell_type": "markdown",
      "id": "ed7e1c5a",
      "metadata": {},
      "source": [
        "### Handling Missing Data:"
      ]
    },
    {
      "cell_type": "code",
      "execution_count": 4,
      "id": "74486d8b",
      "metadata": {},
      "outputs": [
        {
          "name": "stdout",
          "output_type": "stream",
          "text": [
            "Original    OrderID     Product     Category   Sales  Quantity Region\n",
            "0     1001    Keyboard  Electronics   29.99       1.0   East\n",
            "1     1002       Mouse  Electronics   19.99       2.0   East\n",
            "2     1003         NaN  Electronics   49.99       NaN   West\n",
            "3     1004      Laptop          NaN  999.99       1.0   West\n",
            "4     1005     Monitor  Electronics     NaN       2.0  North\n",
            "5     1006        Desk    Furniture  199.99       1.0    NaN\n",
            "6     1007       Chair    Furniture   89.99       1.0  South\n",
            "7     1008  Headphones  Electronics   29.99       NaN   East\n",
            "8     1009       Mouse          NaN   19.99       2.0   East\n",
            "9     1010         NaN    Furniture     NaN       1.0  North\n",
            "\n",
            "\n",
            "Cleaned    OrderID   Product     Category  Sales  Quantity Region\n",
            "0     1001  Keyboard  Electronics  29.99       1.0   East\n",
            "1     1002     Mouse  Electronics  19.99       2.0   East\n",
            "6     1007     Chair    Furniture  89.99       1.0  South\n",
            "\n",
            "\n",
            "Replaced with 0    OrderID     Product     Category   Sales  Quantity Region\n",
            "0     1001    Keyboard  Electronics   29.99       1.0   East\n",
            "1     1002       Mouse  Electronics   19.99       2.0   East\n",
            "2     1003           0  Electronics   49.99       0.0   West\n",
            "3     1004      Laptop            0  999.99       1.0   West\n",
            "4     1005     Monitor  Electronics    0.00       2.0  North\n",
            "5     1006        Desk    Furniture  199.99       1.0      0\n",
            "6     1007       Chair    Furniture   89.99       1.0  South\n",
            "7     1008  Headphones  Electronics   29.99       0.0   East\n",
            "8     1009       Mouse            0   19.99       2.0   East\n",
            "9     1010           0    Furniture    0.00       1.0  North\n",
            "\n",
            "\n",
            "Replaced with mean    OrderID   Sales  Quantity\n",
            "0     1001   29.99     1.000\n",
            "1     1002   19.99     2.000\n",
            "2     1003   49.99     1.375\n",
            "3     1004  999.99     1.000\n",
            "4     1005  179.99     2.000\n",
            "5     1006  199.99     1.000\n",
            "6     1007   89.99     1.000\n",
            "7     1008   29.99     1.375\n",
            "8     1009   19.99     2.000\n",
            "9     1010  179.99     1.000\n"
          ]
        }
      ],
      "source": [
        "df_cleaned = df.dropna()                # Removes rows with missing values\n",
        "df_filled = df.fillna(0)                # Replaces missing values with 0\n",
        "\n",
        "\n",
        "df_numeric = df.select_dtypes(include=['number'])\n",
        "df_filled_mean = df_numeric.fillna(df_numeric.mean())  # Replaces missing values with column mean\n",
        "\n",
        "print(\"Original\", df)\n",
        "print(\"\\n\")\n",
        "print(\"Cleaned\", df_cleaned)\n",
        "print(\"\\n\")\n",
        "print(\"Replaced with 0\",df_filled)\n",
        "print(\"\\n\")\n",
        "print(\"Replaced with mean\",df_filled_mean)"
      ]
    },
    {
      "cell_type": "markdown",
      "id": "3b779e20",
      "metadata": {},
      "source": [
        "###  Visualizing Cleaned Data"
      ]
    },
    {
      "cell_type": "code",
      "execution_count": 5,
      "id": "0f1fa88c",
      "metadata": {},
      "outputs": [
        {
          "data": {
            "image/png": "[encoded data removed]",
            "text/plain": [
              "<Figure size 1000x600 with 1 Axes>"
            ]
          },
          "metadata": {},
          "output_type": "display_data"
        }
      ],
      "source": [
        "# Plot a heatmap to show missing values\n",
        "plt.figure(figsize=(10, 6))\n",
        "sns.heatmap(df_cleaned.isnull(), cbar=False, cmap=\"YlOrRd\")\n",
        "plt.title(\"Missing Data Heatmap\")\n",
        "plt.show()"
      ]
    },
    {
      "cell_type": "markdown",
      "id": "8d72c4ae",
      "metadata": {},
      "source": [
        "**Formula:**\n",
        "\n",
        "```\n",
        "Mean = (x1 + x2 + ... + xn) / n\n",
        "```\n",
        "\n",
        "**Python Equivalent:**"
      ]
    },
    {
      "cell_type": "code",
      "execution_count": 6,
      "id": "646c9b6b",
      "metadata": {},
      "outputs": [],
      "source": [
        "values = [10, 15, None, 20]\n",
        "cleaned = [v for v in values if v is not None]\n",
        "mean = sum(cleaned) / len(cleaned)"
      ]
    },
    {
      "cell_type": "markdown",
      "id": "b1b3844d",
      "metadata": {},
      "source": [
        "---\n",
        "\n",
        "## 2. Lambda Functions\n",
        "\n",
        "Lambda functions are small anonymous functions - perfect when you don't want to define a function just for one use.\n",
        "\n",
        "### Example:"
      ]
    },
    {
      "cell_type": "code",
      "execution_count": 7,
      "id": "39005441",
      "metadata": {},
      "outputs": [],
      "source": [
        "df[\"tax\"] = df[\"Sales\"].apply(lambda x: x * 0.1)"
      ]
    },
    {
      "cell_type": "markdown",
      "id": "69fb4a88",
      "metadata": {},
      "source": [
        "**Explanation:**\n",
        "\n",
        "- `df[\"Sales\"]`: selects the sales column.\n",
        "- `.apply(lambda x: x * 0.1)`: applies a 10% tax to each value.\n",
        "\n",
        "---\n",
        "\n",
        "## 3. Data Cleaning in Pandas (Outliers, Duplicates, etc.)\n",
        "\n",
        "### Removing Duplicates:"
      ]
    },
    {
      "cell_type": "code",
      "execution_count": 8,
      "id": "3f0befc6",
      "metadata": {},
      "outputs": [
        {
          "name": "stdout",
          "output_type": "stream",
          "text": [
            "0\n"
          ]
        }
      ],
      "source": [
        "print(df.duplicated().sum())\n",
        "df = df.drop_duplicates()"
      ]
    },
    {
      "cell_type": "markdown",
      "id": "9edd2046",
      "metadata": {},
      "source": [
        "### Handling Outliers using IQR:"
      ]
    },
    {
      "cell_type": "code",
      "execution_count": 9,
      "id": "67a034fe",
      "metadata": {},
      "outputs": [],
      "source": [
        "Q1 = df[\"Sales\"].quantile(0.25)\n",
        "Q3 = df[\"Sales\"].quantile(0.75)\n",
        "IQR = Q3 - Q1\n",
        "filtered_df = df[(df[\"Sales\"] >= Q1 - 1.5 * IQR) & (df[\"Sales\"] <= Q3 + 1.5 * IQR)]"
      ]
    },
    {
      "cell_type": "markdown",
      "id": "276d617e",
      "metadata": {},
      "source": [
        "**Formula:**\n",
        "\n",
        "```\n",
        "Lower Bound = Q1 - 1.5 * IQR\n",
        "Upper Bound = Q3 + 1.5 * IQR\n",
        "```\n",
        "\n",
        "**Python Code Breakdown:**\n",
        "\n",
        "- Computes 1st and 3rd quartiles.\n",
        "- Filters out values outside of the IQR range.\n",
        "\n",
        "---\n",
        "\n",
        "## 4. Pandas Groupby\n",
        "\n",
        "Groupby helps you summarize data based on a column value.\n",
        "\n",
        "### Example:"
      ]
    },
    {
      "cell_type": "code",
      "execution_count": 10,
      "id": "9b6298c5",
      "metadata": {},
      "outputs": [
        {
          "name": "stdout",
          "output_type": "stream",
          "text": [
            "Category\n",
            "Electronics    129.96\n",
            "Furniture      289.98\n",
            "Name: Sales, dtype: float64\n"
          ]
        }
      ],
      "source": [
        "grouped = df.groupby(\"Category\")[\"Sales\"].sum()\n",
        "print(grouped)"
      ]
    },
    {
      "cell_type": "markdown",
      "id": "1f3060d1",
      "metadata": {},
      "source": [
        "- Groups data by \"Category\"\n",
        "- Aggregates sales using `.sum()`\n",
        "\n",
        "---\n",
        "\n",
        "## 5. Combining DataFrames With Pandas\n",
        "\n",
        "### Concatenating:"
      ]
    },
    {
      "cell_type": "code",
      "execution_count": 11,
      "id": "9250c3ab",
      "metadata": {},
      "outputs": [],
      "source": [
        "df1 = pd.read_csv(\"./data/data.csv\")\n",
        "df2 = pd.read_csv(\"./data/sales_data.csv\")"
      ]
    },
    {
      "cell_type": "code",
      "execution_count": 12,
      "id": "af567dac",
      "metadata": {},
      "outputs": [
        {
          "data": {
            "text/html": [
              "<div>\n",
              "<style scoped>\n",
              "    .dataframe tbody tr th:only-of-type {\n",
              "        vertical-align: middle;\n",
              "    }\n",
              "\n",
              "    .dataframe tbody tr th {\n",
              "        vertical-align: top;\n",
              "    }\n",
              "\n",
              "    .dataframe thead th {\n",
              "        text-align: right;\n",
              "    }\n",
              "</style>\n",
              "<table border=\"1\" class=\"dataframe\">\n",
              "  <thead>\n",
              "    <tr style=\"text-align: right;\">\n",
              "      <th></th>\n",
              "      <th>OrderID</th>\n",
              "      <th>day</th>\n",
              "      <th>sales</th>\n",
              "      <th>Product</th>\n",
              "      <th>Category</th>\n",
              "      <th>Sales</th>\n",
              "      <th>Quantity</th>\n",
              "      <th>Region</th>\n",
              "    </tr>\n",
              "  </thead>\n",
              "  <tbody>\n",
              "    <tr>\n",
              "      <th>0</th>\n",
              "      <td>1001</td>\n",
              "      <td>Monday</td>\n",
              "      <td>10.0</td>\n",
              "      <td>NaN</td>\n",
              "      <td>NaN</td>\n",
              "      <td>NaN</td>\n",
              "      <td>NaN</td>\n",
              "      <td>NaN</td>\n",
              "    </tr>\n",
              "    <tr>\n",
              "      <th>1</th>\n",
              "      <td>1003</td>\n",
              "      <td>Tuesday</td>\n",
              "      <td>15.0</td>\n",
              "      <td>NaN</td>\n",
              "      <td>NaN</td>\n",
              "      <td>NaN</td>\n",
              "      <td>NaN</td>\n",
              "      <td>NaN</td>\n",
              "    </tr>\n",
              "    <tr>\n",
              "      <th>2</th>\n",
              "      <td>1004</td>\n",
              "      <td>Wednesday</td>\n",
              "      <td>7.0</td>\n",
              "      <td>NaN</td>\n",
              "      <td>NaN</td>\n",
              "      <td>NaN</td>\n",
              "      <td>NaN</td>\n",
              "      <td>NaN</td>\n",
              "    </tr>\n",
              "    <tr>\n",
              "      <th>3</th>\n",
              "      <td>1005</td>\n",
              "      <td>Thursday</td>\n",
              "      <td>20.0</td>\n",
              "      <td>NaN</td>\n",
              "      <td>NaN</td>\n",
              "      <td>NaN</td>\n",
              "      <td>NaN</td>\n",
              "      <td>NaN</td>\n",
              "    </tr>\n",
              "    <tr>\n",
              "      <th>4</th>\n",
              "      <td>1007</td>\n",
              "      <td>Friday</td>\n",
              "      <td>13.0</td>\n",
              "      <td>NaN</td>\n",
              "      <td>NaN</td>\n",
              "      <td>NaN</td>\n",
              "      <td>NaN</td>\n",
              "      <td>NaN</td>\n",
              "    </tr>\n",
              "    <tr>\n",
              "      <th>0</th>\n",
              "      <td>1001</td>\n",
              "      <td>NaN</td>\n",
              "      <td>NaN</td>\n",
              "      <td>Keyboard</td>\n",
              "      <td>Electronics</td>\n",
              "      <td>29.99</td>\n",
              "      <td>1.0</td>\n",
              "      <td>East</td>\n",
              "    </tr>\n",
              "    <tr>\n",
              "      <th>1</th>\n",
              "      <td>1002</td>\n",
              "      <td>NaN</td>\n",
              "      <td>NaN</td>\n",
              "      <td>Mouse</td>\n",
              "      <td>Electronics</td>\n",
              "      <td>19.99</td>\n",
              "      <td>2.0</td>\n",
              "      <td>East</td>\n",
              "    </tr>\n",
              "    <tr>\n",
              "      <th>2</th>\n",
              "      <td>1003</td>\n",
              "      <td>NaN</td>\n",
              "      <td>NaN</td>\n",
              "      <td>NaN</td>\n",
              "      <td>Electronics</td>\n",
              "      <td>49.99</td>\n",
              "      <td>NaN</td>\n",
              "      <td>West</td>\n",
              "    </tr>\n",
              "    <tr>\n",
              "      <th>3</th>\n",
              "      <td>1004</td>\n",
              "      <td>NaN</td>\n",
              "      <td>NaN</td>\n",
              "      <td>Laptop</td>\n",
              "      <td>NaN</td>\n",
              "      <td>999.99</td>\n",
              "      <td>1.0</td>\n",
              "      <td>West</td>\n",
              "    </tr>\n",
              "    <tr>\n",
              "      <th>4</th>\n",
              "      <td>1005</td>\n",
              "      <td>NaN</td>\n",
              "      <td>NaN</td>\n",
              "      <td>Monitor</td>\n",
              "      <td>Electronics</td>\n",
              "      <td>NaN</td>\n",
              "      <td>2.0</td>\n",
              "      <td>North</td>\n",
              "    </tr>\n",
              "    <tr>\n",
              "      <th>5</th>\n",
              "      <td>1006</td>\n",
              "      <td>NaN</td>\n",
              "      <td>NaN</td>\n",
              "      <td>Desk</td>\n",
              "      <td>Furniture</td>\n",
              "      <td>199.99</td>\n",
              "      <td>1.0</td>\n",
              "      <td>NaN</td>\n",
              "    </tr>\n",
              "    <tr>\n",
              "      <th>6</th>\n",
              "      <td>1007</td>\n",
              "      <td>NaN</td>\n",
              "      <td>NaN</td>\n",
              "      <td>Chair</td>\n",
              "      <td>Furniture</td>\n",
              "      <td>89.99</td>\n",
              "      <td>1.0</td>\n",
              "      <td>South</td>\n",
              "    </tr>\n",
              "    <tr>\n",
              "      <th>7</th>\n",
              "      <td>1008</td>\n",
              "      <td>NaN</td>\n",
              "      <td>NaN</td>\n",
              "      <td>Headphones</td>\n",
              "      <td>Electronics</td>\n",
              "      <td>29.99</td>\n",
              "      <td>NaN</td>\n",
              "      <td>East</td>\n",
              "    </tr>\n",
              "    <tr>\n",
              "      <th>8</th>\n",
              "      <td>1009</td>\n",
              "      <td>NaN</td>\n",
              "      <td>NaN</td>\n",
              "      <td>Mouse</td>\n",
              "      <td>NaN</td>\n",
              "      <td>19.99</td>\n",
              "      <td>2.0</td>\n",
              "      <td>East</td>\n",
              "    </tr>\n",
              "    <tr>\n",
              "      <th>9</th>\n",
              "      <td>1010</td>\n",
              "      <td>NaN</td>\n",
              "      <td>NaN</td>\n",
              "      <td>NaN</td>\n",
              "      <td>Furniture</td>\n",
              "      <td>NaN</td>\n",
              "      <td>1.0</td>\n",
              "      <td>North</td>\n",
              "    </tr>\n",
              "  </tbody>\n",
              "</table>\n",
              "</div>"
            ],
            "text/plain": [
              "   OrderID         day  sales     Product     Category   Sales  Quantity  \\\n",
              "0     1001      Monday   10.0         NaN          NaN     NaN       NaN   \n",
              "1     1003     Tuesday   15.0         NaN          NaN     NaN       NaN   \n",
              "2     1004   Wednesday    7.0         NaN          NaN     NaN       NaN   \n",
              "3     1005    Thursday   20.0         NaN          NaN     NaN       NaN   \n",
              "4     1007      Friday   13.0         NaN          NaN     NaN       NaN   \n",
              "0     1001         NaN    NaN    Keyboard  Electronics   29.99       1.0   \n",
              "1     1002         NaN    NaN       Mouse  Electronics   19.99       2.0   \n",
              "2     1003         NaN    NaN         NaN  Electronics   49.99       NaN   \n",
              "3     1004         NaN    NaN      Laptop          NaN  999.99       1.0   \n",
              "4     1005         NaN    NaN     Monitor  Electronics     NaN       2.0   \n",
              "5     1006         NaN    NaN        Desk    Furniture  199.99       1.0   \n",
              "6     1007         NaN    NaN       Chair    Furniture   89.99       1.0   \n",
              "7     1008         NaN    NaN  Headphones  Electronics   29.99       NaN   \n",
              "8     1009         NaN    NaN       Mouse          NaN   19.99       2.0   \n",
              "9     1010         NaN    NaN         NaN    Furniture     NaN       1.0   \n",
              "\n",
              "  Region  \n",
              "0    NaN  \n",
              "1    NaN  \n",
              "2    NaN  \n",
              "3    NaN  \n",
              "4    NaN  \n",
              "0   East  \n",
              "1   East  \n",
              "2   West  \n",
              "3   West  \n",
              "4  North  \n",
              "5    NaN  \n",
              "6  South  \n",
              "7   East  \n",
              "8   East  \n",
              "9  North  "
            ]
          },
          "execution_count": 12,
          "metadata": {},
          "output_type": "execute_result"
        }
      ],
      "source": [
        "df_combined = pd.concat([df1, df2])\n",
        "\n",
        "df_combined"
      ]
    },
    {
      "cell_type": "markdown",
      "id": "1ec69c73",
      "metadata": {},
      "source": [
        "### Merging:"
      ]
    },
    {
      "cell_type": "code",
      "execution_count": 13,
      "id": "933c4404",
      "metadata": {},
      "outputs": [
        {
          "data": {
            "text/html": [
              "<div>\n",
              "<style scoped>\n",
              "    .dataframe tbody tr th:only-of-type {\n",
              "        vertical-align: middle;\n",
              "    }\n",
              "\n",
              "    .dataframe tbody tr th {\n",
              "        vertical-align: top;\n",
              "    }\n",
              "\n",
              "    .dataframe thead th {\n",
              "        text-align: right;\n",
              "    }\n",
              "</style>\n",
              "<table border=\"1\" class=\"dataframe\">\n",
              "  <thead>\n",
              "    <tr style=\"text-align: right;\">\n",
              "      <th></th>\n",
              "      <th>OrderID</th>\n",
              "      <th>day</th>\n",
              "      <th>sales</th>\n",
              "      <th>Product</th>\n",
              "      <th>Category</th>\n",
              "      <th>Sales</th>\n",
              "      <th>Quantity</th>\n",
              "      <th>Region</th>\n",
              "    </tr>\n",
              "  </thead>\n",
              "  <tbody>\n",
              "    <tr>\n",
              "      <th>0</th>\n",
              "      <td>1001</td>\n",
              "      <td>Monday</td>\n",
              "      <td>10</td>\n",
              "      <td>Keyboard</td>\n",
              "      <td>Electronics</td>\n",
              "      <td>29.99</td>\n",
              "      <td>1.0</td>\n",
              "      <td>East</td>\n",
              "    </tr>\n",
              "    <tr>\n",
              "      <th>1</th>\n",
              "      <td>1003</td>\n",
              "      <td>Tuesday</td>\n",
              "      <td>15</td>\n",
              "      <td>NaN</td>\n",
              "      <td>Electronics</td>\n",
              "      <td>49.99</td>\n",
              "      <td>NaN</td>\n",
              "      <td>West</td>\n",
              "    </tr>\n",
              "    <tr>\n",
              "      <th>2</th>\n",
              "      <td>1004</td>\n",
              "      <td>Wednesday</td>\n",
              "      <td>7</td>\n",
              "      <td>Laptop</td>\n",
              "      <td>NaN</td>\n",
              "      <td>999.99</td>\n",
              "      <td>1.0</td>\n",
              "      <td>West</td>\n",
              "    </tr>\n",
              "    <tr>\n",
              "      <th>3</th>\n",
              "      <td>1005</td>\n",
              "      <td>Thursday</td>\n",
              "      <td>20</td>\n",
              "      <td>Monitor</td>\n",
              "      <td>Electronics</td>\n",
              "      <td>NaN</td>\n",
              "      <td>2.0</td>\n",
              "      <td>North</td>\n",
              "    </tr>\n",
              "    <tr>\n",
              "      <th>4</th>\n",
              "      <td>1007</td>\n",
              "      <td>Friday</td>\n",
              "      <td>13</td>\n",
              "      <td>Chair</td>\n",
              "      <td>Furniture</td>\n",
              "      <td>89.99</td>\n",
              "      <td>1.0</td>\n",
              "      <td>South</td>\n",
              "    </tr>\n",
              "  </tbody>\n",
              "</table>\n",
              "</div>"
            ],
            "text/plain": [
              "   OrderID         day  sales   Product     Category   Sales  Quantity Region\n",
              "0     1001      Monday     10  Keyboard  Electronics   29.99       1.0   East\n",
              "1     1003     Tuesday     15       NaN  Electronics   49.99       NaN   West\n",
              "2     1004   Wednesday      7    Laptop          NaN  999.99       1.0   West\n",
              "3     1005    Thursday     20   Monitor  Electronics     NaN       2.0  North\n",
              "4     1007      Friday     13     Chair    Furniture   89.99       1.0  South"
            ]
          },
          "execution_count": 13,
          "metadata": {},
          "output_type": "execute_result"
        }
      ],
      "source": [
        "df_merged = pd.merge(df1, df2, on=\"OrderID\")\n",
        "\n",
        "df_merged"
      ]
    },
    {
      "cell_type": "markdown",
      "id": "cf2aab89",
      "metadata": {},
      "source": [
        "- Combines data based on matching column `OrderID`\n",
        "\n"
      ]
    },
    {
      "cell_type": "markdown",
      "id": "4474ad02",
      "metadata": {},
      "source": [
        "### Setting an Index"
      ]
    },
    {
      "cell_type": "code",
      "execution_count": 14,
      "id": "76097c2c",
      "metadata": {},
      "outputs": [
        {
          "name": "stdout",
          "output_type": "stream",
          "text": [
            "                day  sales   Product     Category   Sales  Quantity Region\n",
            "OrderID                                                                   \n",
            "1001         Monday     10  Keyboard  Electronics   29.99       1.0   East\n",
            "1003        Tuesday     15       NaN  Electronics   49.99       NaN   West\n",
            "1004      Wednesday      7    Laptop          NaN  999.99       1.0   West\n",
            "1005       Thursday     20   Monitor  Electronics     NaN       2.0  North\n",
            "1007         Friday     13     Chair    Furniture   89.99       1.0  South\n"
          ]
        }
      ],
      "source": [
        "# Set OrderID as the index\n",
        "df_merged.set_index('OrderID', inplace=True)\n",
        "print(df_merged)"
      ]
    },
    {
      "cell_type": "markdown",
      "id": "fc302fcd",
      "metadata": {},
      "source": [
        "## Types of Joins and Handling Column Name Collisions\n",
        "When combining DataFrames, you can use different types of joins to control how rows are matched. If columns have the same name in both DataFrames (other than the join key), pandas will add suffixes to distinguish them.\n",
        "\n",
        "### Types of Joins:\n",
        "- **Inner Join**: Only rows with keys in both DataFrames are kept.\n",
        "- **Left Join**: All rows from the left DataFrame, matched rows from the right.\n",
        "- **Right Join**: All rows from the right DataFrame, matched rows from the left.\n",
        "- **Outer Join**: All rows from both DataFrames, missing values filled with NaN.\n",
        "\n",
        "### Handling Column Name Collisions:\n",
        "If both DataFrames have columns with the same name (other than the join key), pandas will add `_x` and `_y` suffixes by default. You can customize these with the `suffixes` argument in `pd.merge`."
      ]
    },
    {
      "cell_type": "code",
      "execution_count": 15,
      "id": "6b03aeaf",
      "metadata": {},
      "outputs": [
        {
          "name": "stdout",
          "output_type": "stream",
          "text": [
            "Inner Join:\n",
            "   OrderID Customer_left  Amount_left Customer_right  Amount_right\n",
            "0        2           Bob          200            Bob           210\n",
            "1        3       Charlie          150        Charlie           160\n",
            "\n",
            "Left Join:\n",
            "   OrderID Customer_left  Amount_left Customer_right  Amount_right\n",
            "0        1         Alice          100            NaN           NaN\n",
            "1        2           Bob          200            Bob         210.0\n",
            "2        3       Charlie          150        Charlie         160.0\n",
            "\n",
            "Right Join:\n",
            "   OrderID Customer_left  Amount_left Customer_right  Amount_right\n",
            "0        2           Bob        200.0            Bob           210\n",
            "1        3       Charlie        150.0        Charlie           160\n",
            "2        4           NaN          NaN          David           180\n",
            "\n",
            "Outer Join:\n",
            "   OrderID Customer_left  Amount_left Customer_right  Amount_right\n",
            "0        1         Alice        100.0            NaN           NaN\n",
            "1        2           Bob        200.0            Bob         210.0\n",
            "2        3       Charlie        150.0        Charlie         160.0\n",
            "3        4           NaN          NaN          David         180.0\n"
          ]
        }
      ],
      "source": [
        "# Example DataFrames for joins\n",
        "df_left = pd.DataFrame({\n",
        "    'OrderID': [1, 2, 3],\n",
        "    'Customer': ['Alice', 'Bob', 'Charlie'],\n",
        "    'Amount': [100, 200, 150]\n",
        "})\n",
        "df_right = pd.DataFrame({\n",
        "    'OrderID': [2, 3, 4],\n",
        "    'Customer': ['Bob', 'Charlie', 'David'],\n",
        "    'Amount': [210, 160, 180]\n",
        "})\n",
        "\n",
        "# Inner Join\n",
        "inner = pd.merge(df_left, df_right, on='OrderID', how='inner', suffixes=('_left', '_right'))\n",
        "print('Inner Join:')\n",
        "print(inner)\n",
        "\n",
        "# Left Join\n",
        "left = pd.merge(df_left, df_right, on='OrderID', how='left', suffixes=('_left', '_right'))\n",
        "print('\\nLeft Join:')\n",
        "print(left)\n",
        "\n",
        "# Right Join\n",
        "right = pd.merge(df_left, df_right, on='OrderID', how='right', suffixes=('_left', '_right'))\n",
        "print('\\nRight Join:')\n",
        "print(right)\n",
        "\n",
        "# Outer Join\n",
        "outer = pd.merge(df_left, df_right, on='OrderID', how='outer', suffixes=('_left', '_right'))\n",
        "print('\\nOuter Join:')\n",
        "print(outer)\n",
        "\n",
        "# Note how columns with the same name (e.g., Customer, Amount) get suffixes to avoid collisions."
      ]
    },
    {
      "cell_type": "markdown",
      "id": "696e7502",
      "metadata": {},
      "source": [
        "---\n",
        "\n",
        "## 6. Pivot Tables With Pandas\n",
        "\n",
        "Pivot tables give you a summary of the data in matrix form.\n",
        "\n",
        "### Example:"
      ]
    },
    {
      "cell_type": "code",
      "execution_count": 16,
      "id": "9fd9edc5",
      "metadata": {},
      "outputs": [
        {
          "name": "stdout",
          "output_type": "stream",
          "text": [
            "              Sales\n",
            "Category           \n",
            "Electronics  129.96\n",
            "Furniture    289.98\n"
          ]
        }
      ],
      "source": [
        "pivot = df.pivot_table(values=\"Sales\", index=\"Category\", aggfunc=\"sum\")\n",
        "print(pivot)"
      ]
    },
    {
      "cell_type": "markdown",
      "id": "7e3c3673",
      "metadata": {},
      "source": [
        "- Shows total sales per category\n",
        "\n",
        "---\n",
        "\n",
        "## 7. Practice Exercises\n",
        "\n",
        "1. Load a CSV file and identify missing data.\n",
        "2. Fill missing values using the column mean.\n",
        "3. Create a lambda function to apply a discount of 20%.\n",
        "4. Identify and remove duplicate rows.\n",
        "5. Use IQR to remove outliers in a numeric column.\n",
        "6. Group sales by region using `groupby()`.\n",
        "7. Merge two DataFrames with a common key.\n",
        "8. Create a pivot table summarizing sales by product.\n",
        "\n",
        "---\n",
        "\n",
        "## Summary\n",
        "\n",
        "- Handling missing data is a foundational step in analysis.\n",
        "- Lambda functions offer concise custom transformations.\n",
        "- Cleaning involves removing noise: outliers, duplicates, nulls.\n",
        "- Grouping and combining let you reorganize data.\n",
        "- Pivot tables let you summarize information neatly.\n",
        "\n",
        "Next step: Try applying these skills to a messy real-world dataset. Clean it, organize it, and extract meaningful insights."
      ]
    },
    {
      "cell_type": "markdown",
      "id": "0ab8e1c5",
      "metadata": {},
      "source": [
        "[Slides](https://docs.google.com/presentation/d/1W39QO-6y_y5W73n17HfY3AFU8NUNJLtkO532qgCp5hI/edit?usp=sharing)"
      ]
    }
  ],
  "metadata": {
    "kernelspec": {
      "display_name": "venv (3.12.0)",
      "language": "python",
      "name": "python3"
    },
    "language_info": {
      "codemirror_mode": {
        "name": "ipython",
        "version": 3
      },
      "file_extension": ".py",
      "mimetype": "text/x-python",
      "name": "python",
      "nbconvert_exporter": "python",
      "pygments_lexer": "ipython3",
      "version": "3.12.0"
    }
  },
  "nbformat": 4,
  "nbformat_minor": 5
}
