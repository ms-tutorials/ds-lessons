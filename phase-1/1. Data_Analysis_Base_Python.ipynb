{
  "cells": [
    {
      "cell_type": "markdown",
      "id": "4c6af853",
      "metadata": {},
      "source": [
        "# Data Analysis in Base Python for Beginners\n",
        "\n",
        "## Topics Covered:\n",
        "\n",
        "1. Base Python: The Foundation\n",
        "2. Python Data Types and Control Structures\n",
        "3. Python Modules\n",
        "4. Loading Data from Files\n",
        "   - CSV Files\n",
        "   - JSON Files\n",
        "5. Correlating Data with NumPy and Matplotlib\n",
        "6. Practice Exercises\n",
        "\n",
        "---\n",
        "\n",
        "## 1. Base Python: The Foundation\n",
        "\n",
        "> Imagine Python as your first toolbox. Before fancy tools (like pandas), you learn how to use your hammer and screwdriver effectively.\n",
        "\n",
        "Base Python is powerful enough to do basic data analysis. You don’t need fancy libraries to start - just the built-ins.\n",
        "\n",
        "---\n",
        "\n",
        "## 2. Python Data Types and Control Structures\n",
        "\n",
        "### Common Data Types:\n",
        "\n",
        "- `int`, `float`, `str`, `bool`\n",
        "- `list`, `tuple`, `dict`, `set`\n",
        "\n",
        "### Example:"
      ]
    },
    {
      "cell_type": "code",
      "execution_count": 197,
      "id": "140ead7b",
      "metadata": {},
      "outputs": [],
      "source": [
        "import matplotlib.pyplot as plt\n",
        "import numpy as np\n",
        "import json\n",
        "import math\n",
        "import csv"
      ]
    },
    {
      "cell_type": "code",
      "execution_count": 198,
      "id": "be4f1f67",
      "metadata": {},
      "outputs": [],
      "source": [
        "age = 25            # int\n",
        "temperature = 36.5  # float\n",
        "name = \"Alice\"       # str\n",
        "is_student = True   # bool"
      ]
    },
    {
      "cell_type": "markdown",
      "id": "ba80b8d9",
      "metadata": {},
      "source": [
        "### Control Structures:"
      ]
    },
    {
      "cell_type": "code",
      "execution_count": 199,
      "id": "4b42e5f0",
      "metadata": {},
      "outputs": [
        {
          "name": "stdout",
          "output_type": "stream",
          "text": [
            "Adult\n",
            "0\n",
            "1\n",
            "2\n"
          ]
        }
      ],
      "source": [
        "# If-else\n",
        "if age > 18:\n",
        "    print(\"Adult\")\n",
        "else:\n",
        "    print(\"Minor\")\n",
        "\n",
        "# For loop\n",
        "for i in range(3):\n",
        "    print(i)"
      ]
    },
    {
      "cell_type": "markdown",
      "id": "0a3244ed",
      "metadata": {},
      "source": [
        "---\n",
        "\n",
        "## 3. Python Modules\n",
        "\n",
        "Modules extend Python’s capabilities. For example:"
      ]
    },
    {
      "cell_type": "code",
      "execution_count": 200,
      "id": "0bfe0786",
      "metadata": {},
      "outputs": [
        {
          "name": "stdout",
          "output_type": "stream",
          "text": [
            "4.0\n"
          ]
        }
      ],
      "source": [
        "print(math.sqrt(16))  # 4.0"
      ]
    },
    {
      "cell_type": "markdown",
      "id": "d0cc7c1b",
      "metadata": {},
      "source": [
        "### Useful Built-in Modules:\n",
        "\n",
        "- `os`, `sys`: system-level\n",
        "- `math`: math functions\n",
        "- `json`, `csv`: handle data files\n",
        "\n",
        "---\n",
        "\n",
        "## 4. Loading Data from Files\n",
        "\n",
        "### Loading CSV:"
      ]
    },
    {
      "cell_type": "code",
      "execution_count": 201,
      "id": "06af4509",
      "metadata": {},
      "outputs": [
        {
          "name": "stdout",
          "output_type": "stream",
          "text": [
            "['day', 'sales']\n",
            "['Monday', '10']\n",
            "['Tuesday', '15']\n",
            "['Wednesday', '7']\n",
            "['Thursday', '20']\n",
            "['Friday', '13']\n"
          ]
        }
      ],
      "source": [
        "\n",
        "with open(\"./data/data.csv\", newline='') as file:\n",
        "    reader = csv.reader(file)\n",
        "    for row in reader:\n",
        "        print(row)"
      ]
    },
    {
      "cell_type": "markdown",
      "id": "6af6ee4d",
      "metadata": {},
      "source": [
        "**Breakdown:**\n",
        "\n",
        "- `open(...)`: opens the file\n",
        "- `csv.reader`: reads each line as a list\n",
        "- `for row in reader`: loops through the data\n",
        "\n"
      ]
    },
    {
      "cell_type": "markdown",
      "id": "d256e86a",
      "metadata": {},
      "source": [
        "### Writing CSV with `csv.writer`\n",
        "You can write rows to a CSV file using `csv.writer`."
      ]
    },
    {
      "cell_type": "code",
      "execution_count": 202,
      "id": "56cf9673",
      "metadata": {},
      "outputs": [],
      "source": [
        "# Example: Writing rows to a CSV file\n",
        "rows = [[\"Name\", \"Age\"], [\"Alice\", 25], [\"Bob\", 30]]\n",
        "with open(\"./data/output.csv\", \"w\", newline='') as file:\n",
        "    writer = csv.writer(file)\n",
        "    writer.writerows(rows)"
      ]
    },
    {
      "cell_type": "markdown",
      "id": "2b169ab2",
      "metadata": {},
      "source": [
        "### Reading CSV with `csv.DictReader`\n",
        "`csv.DictReader` reads each row as a dictionary, using the header row as keys."
      ]
    },
    {
      "cell_type": "code",
      "execution_count": 203,
      "id": "ed983a42",
      "metadata": {},
      "outputs": [
        {
          "name": "stdout",
          "output_type": "stream",
          "text": [
            "{'day': 'Monday', 'sales': '10'}\n",
            "{'day': 'Tuesday', 'sales': '15'}\n",
            "{'day': 'Wednesday', 'sales': '7'}\n",
            "{'day': 'Thursday', 'sales': '20'}\n",
            "{'day': 'Friday', 'sales': '13'}\n"
          ]
        }
      ],
      "source": [
        "# Example: Reading CSV as dictionaries\n",
        "with open(\"./data/data.csv\", newline='') as file:\n",
        "    reader = csv.DictReader(file)\n",
        "    for row in reader:\n",
        "        print(row)  # Each row is a dictionary"
      ]
    },
    {
      "cell_type": "markdown",
      "id": "b43f8105",
      "metadata": {},
      "source": [
        "### Writing CSV with `csv.DictWriter`\n",
        "`csv.DictWriter` lets you write dictionaries as rows in a CSV file."
      ]
    },
    {
      "cell_type": "code",
      "execution_count": 204,
      "id": "e0e81cbf",
      "metadata": {},
      "outputs": [],
      "source": [
        "# Example: Writing dictionaries to a CSV file\n",
        "data = [\n",
        "    {\"Name\": \"Alice\", \"Age\": 25},\n",
        "    {\"Name\": \"Bob\", \"Age\": 30}\n",
        " ]\n",
        "with open(\"./data/output_dict.csv\", \"w\", newline='') as file:\n",
        "    fieldnames = [\"Name\", \"Age\"]\n",
        "    writer = csv.DictWriter(file, fieldnames=fieldnames)\n",
        "    writer.writeheader()\n",
        "    writer.writerows(data)"
      ]
    },
    {
      "cell_type": "markdown",
      "id": "6f645608",
      "metadata": {},
      "source": [
        "### Loading JSON:"
      ]
    },
    {
      "cell_type": "code",
      "execution_count": 205,
      "id": "c6c921ce",
      "metadata": {},
      "outputs": [
        {
          "name": "stdout",
          "output_type": "stream",
          "text": [
            "[{'day': 'Monday', 'value': 10}, {'day': 'Tuesday', 'value': 15}, {'day': 'Wednesday', 'value': 7}, {'day': 'Thursday', 'value': 20}, {'day': 'Friday', 'value': 13}]\n"
          ]
        }
      ],
      "source": [
        "with open(\"./data/data.json\") as file:\n",
        "    data = json.load(file)\n",
        "    print(data)"
      ]
    },
    {
      "cell_type": "markdown",
      "id": "3446514b",
      "metadata": {},
      "source": [
        "**Breakdown:**\n",
        "\n",
        "- `json.load`: converts JSON text into Python dictionary"
      ]
    },
    {
      "cell_type": "markdown",
      "id": "ef5fdc9b",
      "metadata": {},
      "source": [
        "### Writing JSON with `json.dump`\n",
        "You can write Python objects to a JSON file using `json.dump`."
      ]
    },
    {
      "cell_type": "code",
      "execution_count": 206,
      "id": "2ca26442",
      "metadata": {},
      "outputs": [],
      "source": [
        "# Example: Writing a dictionary to a JSON file\n",
        "data = {\"name\": \"Alice\", \"age\": 25, \"is_student\": True}\n",
        "with open(\"./data/output.json\", \"w\") as file:\n",
        "    json.dump(data, file)"
      ]
    },
    {
      "cell_type": "markdown",
      "id": "010bce28",
      "metadata": {},
      "source": [
        "\n",
        "---\n",
        "\n",
        "## 5. Correlation with NumPy and Matplotlib\n",
        "\n",
        "### Why NumPy?\n",
        "\n",
        "For mathematical operations on data loaded from CSV:"
      ]
    },
    {
      "cell_type": "code",
      "execution_count": 207,
      "id": "8e6e5323",
      "metadata": {},
      "outputs": [
        {
          "name": "stdout",
          "output_type": "stream",
          "text": [
            "Average: 13.0\n"
          ]
        }
      ],
      "source": [
        "values = []\n",
        "with open(\"./data/data.csv\") as file:\n",
        "    reader = csv.reader(file)\n",
        "    next(reader)  # Skip header\n",
        "    for row in reader:\n",
        "        values.append(float(row[1]))  # Assuming numeric data in column 2\n",
        "\n",
        "print(\"Average:\", np.mean(values))"
      ]
    },
    {
      "cell_type": "markdown",
      "id": "641bcf44",
      "metadata": {},
      "source": [
        "**Breakdown:**\n",
        "\n",
        "- Reads numeric values from a CSV column\n",
        "- Calculates mean using NumPy\n",
        "\n",
        "### Why Matplotlib?\n",
        "\n",
        "For visualizing data loaded from JSON:"
      ]
    },
    {
      "cell_type": "code",
      "execution_count": 208,
      "id": "2e5a7de1",
      "metadata": {},
      "outputs": [
        {
          "data": {
            "image/png": "[encoded data removed]",
            "text/plain": [
              "<Figure size 640x480 with 1 Axes>"
            ]
          },
          "metadata": {},
          "output_type": "display_data"
        }
      ],
      "source": [
        "with open(\"./data/data.json\") as file:\n",
        "    data = json.load(file)\n",
        "\n",
        "x = [entry[\"day\"] for entry in data]      # e.g., ['Mon', 'Tue', 'Wed']\n",
        "y = [entry[\"value\"] for entry in data]    # e.g., [10, 15, 7]\n",
        "\n",
        "plt.bar(x, y)\n",
        "plt.title(\"Values per Day\")\n",
        "plt.xlabel(\"Day\")\n",
        "plt.ylabel(\"Value\")\n",
        "plt.show()"
      ]
    },
    {
      "cell_type": "markdown",
      "id": "71881216",
      "metadata": {},
      "source": [
        "**Breakdown:**\n",
        "\n",
        "- Extracts x and y values from JSON\n",
        "- Uses bar chart to show data visually"
      ]
    },
    {
      "cell_type": "markdown",
      "id": "e26d3cce",
      "metadata": {},
      "source": [
        "For visualizing data loaded from CSV:"
      ]
    },
    {
      "cell_type": "code",
      "execution_count": 209,
      "id": "00e719a5",
      "metadata": {},
      "outputs": [
        {
          "data": {
            "image/png": "[encoded data removed]",
            "text/plain": [
              "<Figure size 640x480 with 1 Axes>"
            ]
          },
          "metadata": {},
          "output_type": "display_data"
        }
      ],
      "source": [
        "with open(\"./data/data.csv\") as file:\n",
        "    csv_reader = csv.reader(file)\n",
        "\n",
        "x = [entry[\"day\"] for entry in data]      # e.g., ['Mon', 'Tue', 'Wed']\n",
        "y = [entry[\"value\"] for entry in data]    # e.g., [10, 15, 7]\n",
        "\n",
        "plt.bar(x, y)\n",
        "plt.title(\"Values per Day\")\n",
        "plt.xlabel(\"Day\")\n",
        "plt.ylabel(\"Value\")\n",
        "plt.show()"
      ]
    },
    {
      "cell_type": "markdown",
      "id": "f75fa7d7",
      "metadata": {},
      "source": [
        "**Breakdown:**\n",
        "\n",
        "- Extracts x and y values from JSON\n",
        "- Uses bar chart to show data visually"
      ]
    },
    {
      "cell_type": "markdown",
      "id": "5da9b5d4",
      "metadata": {},
      "source": [
        "\n",
        "\n",
        "---\n",
        "\n",
        "## Practice Exercises\n",
        "\n",
        "1. Write a Python script to calculate the average of a list without using NumPy.\n",
        "2. Load a CSV file and print only the second column.\n",
        "3. Load a JSON file and print values for a given key.\n",
        "4. Create a simple line chart using `matplotlib.pyplot` based on data loaded from CSV.\n",
        "5. Use a for-loop to count how many items in a list are above a certain threshold.\n",
        "\n",
        "---\n",
        "\n",
        "## Summary\n",
        "\n",
        "- You don’t need Pandas to start exploring data.\n",
        "- Base Python gives you complete control.\n",
        "- Practice helps build confidence with real-world data.\n",
        "\n",
        "---\n",
        "\n",
        "## Q&A\n",
        "\n",
        "Let’s discuss what kind of problems you can already start solving with what you’ve learned today."
      ]
    },
    {
      "cell_type": "markdown",
      "id": "4047af67",
      "metadata": {},
      "source": [
        "[Slides](https://docs.google.com/presentation/d/1W39QO-6y_y5W73n17HfY3AFU8NUNJLtkO532qgCp5hI/edit?usp=sharing)"
      ]
    }
  ],
  "metadata": {
    "kernelspec": {
      "display_name": "venv (3.12.0)",
      "language": "python",
      "name": "python3"
    },
    "language_info": {
      "codemirror_mode": {
        "name": "ipython",
        "version": 3
      },
      "file_extension": ".py",
      "mimetype": "text/x-python",
      "name": "python",
      "nbconvert_exporter": "python",
      "pygments_lexer": "ipython3",
      "version": "3.12.0"
    }
  },
  "nbformat": 4,
  "nbformat_minor": 5
}
