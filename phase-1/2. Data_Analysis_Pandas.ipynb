{
 "cells": [
  {
   "cell_type": "markdown",
   "id": "31011fd1",
   "metadata": {},
   "source": [
    "# Data Analysis in Pandas for Beginners\n",
    "\n",
    "## Topics Covered:\n",
    "\n",
    "1. Introducing Python Libraries\n",
    "2. Accessing Data within Pandas\n",
    "3. Importing Data Using Pandas\n",
    "4. Understanding Pandas Series and DataFrames\n",
    "5. Statistical Methods in Pandas\n",
    "6. Data Visualization with Pandas\n",
    "7. Practice Exercises\n",
    "\n",
    "---\n",
    "\n",
    "## 1. Introducing Python Libraries\n",
    "\n",
    "When starting data science in Python, several libraries become your everyday tools. Here's a friendly comparison to a real-life toolbox:\n",
    "\n",
    "- **NumPy**: Your scientific calculator - used for fast numerical operations\n",
    "- **SciPy**: The lab assistant - handles advanced mathematical functions\n",
    "- **Statsmodels**: The statistician - great for hypothesis testing and modeling\n",
    "- **Pandas**: The spreadsheet master - ideal for structured data analysis\n",
    "- **Matplotlib**: The artist - helps visualize data\n",
    "- **Seaborn**: The decorator - builds beautiful visualizations on top of Matplotlib\n",
    "- **Scikit-Learn**: The machine learning guru - handles training and testing models\n",
    "- **TensorFlow/Keras**: The deep thinker - used for building neural networks\n",
    "\n",
    "Today, we focus on **Pandas** - the data wrangler.\n",
    "\n",
    "---\n",
    "\n",
    "## 2. Accessing Data within Pandas\n",
    "\n",
    "Let's say you've just received a dataset - it’s your new pet. Pandas lets you ask questions like:\n",
    "\n",
    "- What are the column names?\n",
    "- How many rows are there?\n",
    "- What's inside a specific row or column?\n",
    "\n",
    "### Example:"
   ]
  },
  {
   "cell_type": "code",
   "execution_count": 1,
   "id": "68802a88",
   "metadata": {},
   "outputs": [],
   "source": [
    "import pandas as pd\n",
    "import warnings\n",
    "warnings.filterwarnings('ignore')"
   ]
  },
  {
   "cell_type": "code",
   "execution_count": 2,
   "id": "9276021a",
   "metadata": {},
   "outputs": [
    {
     "name": "stdout",
     "output_type": "stream",
     "text": [
      "   OrderID         day  sales\n",
      "0     1001      Monday     10\n",
      "1     1003     Tuesday     15\n",
      "2     1004   Wednesday      7\n",
      "3     1005    Thursday     20\n",
      "4     1007      Friday     13\n"
     ]
    }
   ],
   "source": [
    "df = pd.read_csv(\"./data/data.csv\")\n",
    "print(df.head())"
   ]
  },
  {
   "cell_type": "markdown",
   "id": "73d512dd",
   "metadata": {},
   "source": [
    "**Line-by-line:**\n",
    "\n",
    "- `import pandas as pd`: Loads the Pandas library.\n",
    "- `pd.read_csv(...)`: Reads the CSV into a DataFrame.\n",
    "- `df.head()`: Shows the first 5 rows.\n",
    "\n",
    "Other useful ways to access data:"
   ]
  },
  {
   "cell_type": "code",
   "execution_count": 3,
   "id": "9086cea7",
   "metadata": {},
   "outputs": [
    {
     "name": "stdout",
     "output_type": "stream",
     "text": [
      "Index(['OrderID', 'day', 'sales'], dtype='object')\n",
      "0    10\n",
      "1    15\n",
      "2     7\n",
      "3    20\n",
      "4    13\n",
      "Name: sales, dtype: int64\n",
      "OrderID      1001\n",
      "day        Monday\n",
      "sales          10\n",
      "Name: 0, dtype: object\n"
     ]
    }
   ],
   "source": [
    "print(df.columns)        # Shows all column names\n",
    "print(df[\"sales\"])       # Accesses a specific column\n",
    "print(df.iloc[0])        # Accesses the first row"
   ]
  },
  {
   "cell_type": "markdown",
   "id": "ef366df0",
   "metadata": {},
   "source": [
    "---\n",
    "\n",
    "## 3. Importing Data Using Pandas\n",
    "\n",
    "Pandas makes it easy to import data from various formats:\n",
    "\n",
    "### CSV File:"
   ]
  },
  {
   "cell_type": "code",
   "execution_count": 4,
   "id": "86e91648",
   "metadata": {},
   "outputs": [],
   "source": [
    "df = pd.read_csv(\"./data/data.csv\")"
   ]
  },
  {
   "cell_type": "markdown",
   "id": "27ca66b6",
   "metadata": {},
   "source": [
    "### Excel File:"
   ]
  },
  {
   "cell_type": "code",
   "execution_count": 5,
   "id": "97b200f1",
   "metadata": {},
   "outputs": [],
   "source": [
    "df = pd.read_excel(\"./data/data.xlsx\")"
   ]
  },
  {
   "cell_type": "markdown",
   "id": "6c267914",
   "metadata": {},
   "source": [
    "### JSON File:"
   ]
  },
  {
   "cell_type": "code",
   "execution_count": 6,
   "id": "a803589d",
   "metadata": {},
   "outputs": [],
   "source": [
    "df = pd.read_json(\"./data/data.json\")"
   ]
  },
  {
   "cell_type": "markdown",
   "id": "0b6e9ebf",
   "metadata": {},
   "source": [
    "You can also import from URLs or APIs - like grabbing data directly from the internet!\n",
    "\n",
    "---\n",
    "\n",
    "## 4. Understanding Pandas Series and DataFrames\n",
    "\n",
    "> Think of a Series as a single column in a spreadsheet, and a DataFrame as the entire table.\n",
    "\n",
    "### Series:"
   ]
  },
  {
   "cell_type": "code",
   "execution_count": 7,
   "id": "ae0522d1",
   "metadata": {},
   "outputs": [
    {
     "name": "stdout",
     "output_type": "stream",
     "text": [
      "0    10\n",
      "1    20\n",
      "2    30\n",
      "dtype: int64\n"
     ]
    }
   ],
   "source": [
    "s = pd.Series([10, 20, 30])\n",
    "print(s)"
   ]
  },
  {
   "cell_type": "markdown",
   "id": "6d09a3db",
   "metadata": {},
   "source": [
    "### DataFrame:"
   ]
  },
  {
   "cell_type": "code",
   "execution_count": 8,
   "id": "7c29a6b7",
   "metadata": {},
   "outputs": [
    {
     "name": "stdout",
     "output_type": "stream",
     "text": [
      "   day  sales\n",
      "0  Mon    100\n",
      "1  Tue    120\n",
      "2  Wed     90\n"
     ]
    }
   ],
   "source": [
    "data = {\n",
    "    \"day\": [\"Mon\", \"Tue\", \"Wed\"],\n",
    "    \"sales\": [100, 120, 90]\n",
    "}\n",
    "df = pd.DataFrame(data)\n",
    "print(df)"
   ]
  },
  {
   "cell_type": "markdown",
   "id": "49b96a49",
   "metadata": {},
   "source": [
    "**Line-by-line:**\n",
    "\n",
    "- We create a dictionary with two lists.\n",
    "- `pd.DataFrame(data)` turns that dictionary into a DataFrame.\n",
    "\n",
    "---\n",
    "\n",
    "## 5. Statistical Methods in Pandas\n",
    "\n",
    "Pandas comes with many statistical tools built in:\n",
    "\n",
    "### Descriptive Statistics:"
   ]
  },
  {
   "cell_type": "code",
   "execution_count": 9,
   "id": "77a26c60",
   "metadata": {},
   "outputs": [
    {
     "name": "stdout",
     "output_type": "stream",
     "text": [
      "Stats             sales\n",
      "count    3.000000\n",
      "mean   103.333333\n",
      "std     15.275252\n",
      "min     90.000000\n",
      "25%     95.000000\n",
      "50%    100.000000\n",
      "75%    110.000000\n",
      "max    120.000000\n",
      "\n",
      "\n",
      "Info\n",
      "<class 'pandas.core.frame.DataFrame'>\n",
      "RangeIndex: 3 entries, 0 to 2\n",
      "Data columns (total 2 columns):\n",
      " #   Column  Non-Null Count  Dtype \n",
      "---  ------  --------------  ----- \n",
      " 0   day     3 non-null      object\n",
      " 1   sales   3 non-null      int64 \n",
      "dtypes: int64(1), object(1)\n",
      "memory usage: 180.0+ bytes\n",
      "\n",
      "\n",
      "Mean 103.33333333333333\n",
      "\n",
      "\n",
      "Std 15.275252316519467\n",
      "\n",
      "Count 3\n",
      "\n",
      "Var 233.33333333333334\n",
      "\n",
      "Sum 310\n",
      "\n",
      "Cumulative Sum 0    100\n",
      "1    220\n",
      "2    310\n",
      "Name: sales, dtype: int64\n",
      "\n",
      "Apply: Add 10 to each sales value\n",
      "0    110\n",
      "1    130\n",
      "2    100\n",
      "Name: sales, dtype: int64\n",
      "\n",
      "Applymap: Convert all elements to string\n",
      "   day sales\n",
      "0  Mon   100\n",
      "1  Tue   120\n",
      "2  Wed    90\n",
      "\n",
      "Rows\n",
      "\n",
      "First 5\n",
      "0    100\n",
      "1    120\n",
      "2     90\n",
      "Name: sales, dtype: int64\n",
      "\n",
      "Last 5\n",
      "0    100\n",
      "1    120\n",
      "2     90\n",
      "Name: sales, dtype: int64\n"
     ]
    }
   ],
   "source": [
    "# Descriptive statistics and useful DataFrame methods\n",
    "print(\"Stats\", df.describe())      # Summary stats\n",
    "print(\"\\n\")\n",
    "print(\"Info\")\n",
    "df.info()                          # DataFrame info (non-null counts, dtypes)\n",
    "print(\"\\n\")\n",
    "print(\"Mean\", df[\"sales\"].mean()) # Average (Can also use .mode & .median)\n",
    "print(\"\\n\")\n",
    "print(\"Std\", df[\"sales\"].std())  # Standard deviation\n",
    "print(\"\\nCount\", df[\"sales\"].count()) # Count of non-null values\n",
    "print(\"\\nVar\", df[\"sales\"].var())     # Variance\n",
    "print(\"\\nSum\", df[\"sales\"].sum())     # Sum of values\n",
    "print(\"\\nCumulative Sum\", df[\"sales\"].cumsum()) # Cumulative sum\n",
    "\n",
    "# Using apply() to transform a column (e.g., add 10 to each sales value)\n",
    "print(\"\\nApply: Add 10 to each sales value\")\n",
    "print(df[\"sales\"].apply(lambda x: x + 10))\n",
    "\n",
    "# Using applymap() to transform all elements (e.g., convert all to string)\n",
    "print(\"\\nApplymap: Convert all elements to string\")\n",
    "print(df.applymap(str))\n",
    "\n",
    "print(\"\\nRows\")\n",
    "print(\"\\nFirst 5\")\n",
    "print(df[\"sales\"].head())  # First five rows\n",
    "print(\"\\nLast 5\")\n",
    "print(df[\"sales\"].tail())  # Last five rows"
   ]
  },
  {
   "cell_type": "code",
   "execution_count": 10,
   "id": "a5ef369f",
   "metadata": {},
   "outputs": [
    {
     "name": "stdout",
     "output_type": "stream",
     "text": [
      "103.33333333333333\n"
     ]
    }
   ],
   "source": [
    "values = [100, 120, 90]\n",
    "mean = sum(values) / len(values)\n",
    "print(mean)"
   ]
  },
  {
   "cell_type": "markdown",
   "id": "54b073c1",
   "metadata": {},
   "source": [
    "### Correlation:"
   ]
  },
  {
   "cell_type": "code",
   "execution_count": 11,
   "id": "fafa8e62",
   "metadata": {},
   "outputs": [
    {
     "name": "stdout",
     "output_type": "stream",
     "text": [
      "           OrderID     Sales  Quantity\n",
      "OrderID   1.000000 -0.105764 -0.043644\n",
      "Sales    -0.105764  1.000000 -0.415686\n",
      "Quantity -0.043644 -0.415686  1.000000\n"
     ]
    }
   ],
   "source": [
    "sales_df = pd.read_csv(\"./data/sales_data.csv\")\n",
    "df_numeric = sales_df.select_dtypes(include=['number'])\n",
    "print(df_numeric.corr())"
   ]
  },
  {
   "cell_type": "markdown",
   "id": "0dfdf884",
   "metadata": {},
   "source": [
    "Finds how strongly numeric columns relate to each other (ranges between -1 and 1).\n"
   ]
  },
  {
   "cell_type": "markdown",
   "id": "0914eac1",
   "metadata": {},
   "source": [
    "## Working with DataFrames: Access, Filter, Sort, Modify, and Export (WineQT.csv Example)\n",
    "This section demonstrates common DataFrame operations using the WineQT.csv dataset:\n",
    "- Accessing a single column\n",
    "- Accessing data with `.loc[]` and `.iloc[]`\n",
    "- Filtering data\n",
    "- Sorting data\n",
    "- Adding and modifying data\n",
    "- Exporting data"
   ]
  },
  {
   "cell_type": "code",
   "execution_count": 12,
   "id": "47f39f83",
   "metadata": {},
   "outputs": [
    {
     "name": "stdout",
     "output_type": "stream",
     "text": [
      "0        9.4\n",
      "1        9.8\n",
      "2        9.8\n",
      "3        9.8\n",
      "4        9.4\n",
      "        ... \n",
      "1138    11.0\n",
      "1139     9.5\n",
      "1140    10.5\n",
      "1141    11.2\n",
      "1142    10.2\n",
      "Name: alcohol, Length: 1143, dtype: float64\n",
      "9.4\n",
      "7.4\n",
      "     fixed acidity  volatile acidity  citric acid  residual sugar  chlorides  \\\n",
      "32             4.6              0.52         0.15             2.1      0.054   \n",
      "91             5.6              0.50         0.09             2.3      0.049   \n",
      "96             5.2              0.34         0.00             1.8      0.050   \n",
      "98             5.2              0.34         0.00             1.8      0.050   \n",
      "148            9.7              0.53         0.60             2.0      0.039   \n",
      "\n",
      "     free sulfur dioxide  total sulfur dioxide  density    pH  sulphates  \\\n",
      "32                   8.0                  65.0  0.99340  3.90       0.56   \n",
      "91                  17.0                  99.0  0.99370  3.63       0.63   \n",
      "96                  27.0                  63.0  0.99160  3.68       0.79   \n",
      "98                  27.0                  63.0  0.99160  3.68       0.79   \n",
      "148                  5.0                  19.0  0.99585  3.30       0.86   \n",
      "\n",
      "     alcohol  quality   Id  \n",
      "32      13.1        4   45  \n",
      "91      13.0        5  131  \n",
      "96      14.0        6  142  \n",
      "98      14.0        6  144  \n",
      "148     12.4        6  210  \n",
      "      fixed acidity  volatile acidity  citric acid  residual sugar  chlorides  \\\n",
      "103             9.2              0.52         1.00             3.4      0.610   \n",
      "388            14.3              0.31         0.74             1.8      0.075   \n",
      "310            12.6              0.31         0.72             2.2      0.072   \n",
      "1047           10.0              0.69         0.11             1.4      0.084   \n",
      "714             8.0              0.18         0.37             0.9      0.049   \n",
      "\n",
      "      free sulfur dioxide  total sulfur dioxide  density    pH  sulphates  \\\n",
      "103                  32.0                  69.0  0.99960  2.74       2.00   \n",
      "388                   6.0                  15.0  1.00080  2.86       0.79   \n",
      "310                   6.0                  29.0  0.99870  2.88       0.82   \n",
      "1047                  8.0                  24.0  0.99578  2.88       0.47   \n",
      "714                  36.0                 109.0  0.99007  2.89       0.44   \n",
      "\n",
      "      alcohol  quality    Id  \n",
      "103       9.4        4   151  \n",
      "388       8.4        6   544  \n",
      "310       9.8        8   440  \n",
      "1047      9.7        5  1470  \n",
      "714      12.7        6  1018  \n",
      "   quality  high_quality\n",
      "0        5         False\n",
      "1        5         False\n",
      "2        5         False\n",
      "3        6         False\n",
      "4        5         False\n",
      "   alcohol  high_quality\n",
      "0      9.4         False\n",
      "1      9.8         False\n",
      "2      9.8         False\n",
      "3      9.8         False\n",
      "4      9.4         False\n"
     ]
    }
   ],
   "source": [
    "# Load the WineQT.csv dataset\n",
    "wine_df = pd.read_csv(\"./data/WineQT.csv\")\n",
    "\n",
    "# Accessing a single column\n",
    "print(wine_df[\"alcohol\"])  # Access the 'alcohol' column\n",
    "\n",
    "# Accessing data with .loc[] (label-based) and .iloc[] (position-based)\n",
    "print(wine_df.loc[0, \"alcohol\"])   # First row, 'alcohol' column\n",
    "print(wine_df.iloc[0, 0])            # First row, first column\n",
    "\n",
    "# Filtering data: wines with alcohol > 12\n",
    "high_alcohol = wine_df[wine_df[\"alcohol\"] > 12]\n",
    "print(high_alcohol.head())\n",
    "\n",
    "# Sorting data by pH (ascending)\n",
    "sorted_wine = wine_df.sort_values(by=\"pH\")\n",
    "print(sorted_wine.head())\n",
    "\n",
    "# Adding a new column: 'high_quality' (quality >= 7)\n",
    "wine_df[\"high_quality\"] = wine_df[\"quality\"] >= 7\n",
    "print(wine_df[[\"quality\", \"high_quality\"]].head())\n",
    "\n",
    "# Modifying data: set all 'high_quality' False if alcohol < 10\n",
    "wine_df.loc[wine_df[\"alcohol\"] < 10, \"high_quality\"] = False\n",
    "print(wine_df[[\"alcohol\", \"high_quality\"]].head())\n",
    "\n",
    "# Exporting data to a new CSV file\n",
    "wine_df.to_csv(\"./data/wineqt_modified.csv\", index=False)"
   ]
  },
  {
   "cell_type": "markdown",
   "id": "68261b9c",
   "metadata": {},
   "source": [
    "---\n",
    "\n",
    "## 6. Data Visualization with Pandas\n",
    "\n",
    "Pandas integrates easily with Matplotlib to produce quick visualizations. It helps make sense of patterns and trends in the data.\n",
    "\n",
    "### Line Plot:"
   ]
  },
  {
   "cell_type": "code",
   "execution_count": 13,
   "id": "5d7d9ca1",
   "metadata": {},
   "outputs": [
    {
     "data": {
      "text/plain": [
       "<Axes: title={'center': 'Daily Sales'}, xlabel='day'>"
      ]
     },
     "execution_count": 13,
     "metadata": {},
     "output_type": "execute_result"
    },
    {
     "data": {
      "image/png": "[encoded data removed]",
      "text/plain": [
       "<Figure size 640x480 with 1 Axes>"
      ]
     },
     "metadata": {},
     "output_type": "display_data"
    }
   ],
   "source": [
    "df.plot(x=\"day\", y=\"sales\", kind=\"line\", title=\"Daily Sales\")"
   ]
  },
  {
   "cell_type": "markdown",
   "id": "cec7a1b3",
   "metadata": {},
   "source": [
    "### Bar Plot:"
   ]
  },
  {
   "cell_type": "code",
   "execution_count": 14,
   "id": "efd1ae70",
   "metadata": {},
   "outputs": [
    {
     "data": {
      "text/plain": [
       "<Axes: title={'center': 'Bar Plot of Sales'}, xlabel='day'>"
      ]
     },
     "execution_count": 14,
     "metadata": {},
     "output_type": "execute_result"
    },
    {
     "data": {
      "image/png": "[encoded data removed]",
      "text/plain": [
       "<Figure size 640x480 with 1 Axes>"
      ]
     },
     "metadata": {},
     "output_type": "display_data"
    }
   ],
   "source": [
    "df.plot(x=\"day\", y=\"sales\", kind=\"bar\", title=\"Bar Plot of Sales\")"
   ]
  },
  {
   "cell_type": "markdown",
   "id": "95365ec1",
   "metadata": {},
   "source": [
    "### Histogram:"
   ]
  },
  {
   "cell_type": "code",
   "execution_count": 15,
   "id": "72f2d8af",
   "metadata": {},
   "outputs": [
    {
     "data": {
      "text/plain": [
       "<Axes: title={'center': 'Sales Distribution'}, ylabel='Frequency'>"
      ]
     },
     "execution_count": 15,
     "metadata": {},
     "output_type": "execute_result"
    },
    {
     "data": {
      "image/png": "[encoded data removed]",
      "text/plain": [
       "<Figure size 640x480 with 1 Axes>"
      ]
     },
     "metadata": {},
     "output_type": "display_data"
    }
   ],
   "source": [
    "df[\"sales\"].plot(kind=\"hist\", bins=5, title=\"Sales Distribution\")"
   ]
  },
  {
   "cell_type": "markdown",
   "id": "583ab6ab",
   "metadata": {},
   "source": [
    "### Pie Chart:"
   ]
  },
  {
   "cell_type": "code",
   "execution_count": 16,
   "id": "2a05bb1c",
   "metadata": {},
   "outputs": [
    {
     "data": {
      "text/plain": [
       "<Axes: title={'center': 'Sales Share by Day'}, ylabel='sales'>"
      ]
     },
     "execution_count": 16,
     "metadata": {},
     "output_type": "execute_result"
    },
    {
     "data": {
      "image/png": "[encoded data removed]",
      "text/plain": [
       "<Figure size 640x480 with 1 Axes>"
      ]
     },
     "metadata": {},
     "output_type": "display_data"
    }
   ],
   "source": [
    "df.set_index(\"day\")[\"sales\"].plot(kind=\"pie\", autopct=\"%1.1f%%\", title=\"Sales Share by Day\")"
   ]
  },
  {
   "cell_type": "markdown",
   "id": "ae4d2c6e",
   "metadata": {},
   "source": [
    "**Line-by-line:**\n",
    "\n",
    "- `df.plot(...)`: Triggers the visualization.\n",
    "- `kind`: Specifies the chart type.\n",
    "- `x` and `y`: Identify axes.\n",
    "- `title`: Adds a title to the plot.\n",
    "\n",
    "Make sure to include `import matplotlib.pyplot as plt` and run `plt.show()` if you're not using an environment that auto-displays plots.\n",
    "\n",
    "---\n",
    "\n",
    "## Practice Exercises\n",
    "\n",
    "1. Load the sample `data.csv` into a Pandas DataFrame.\n",
    "2. Print the column names and the first 10 rows.\n",
    "3. Create a new column that contains 10% tax on the sales.\n",
    "4. Calculate the average and standard deviation of the sales column.\n",
    "5. Try making a DataFrame from a dictionary manually.\n",
    "6. Use Pandas to create a line plot and bar chart from the data.\n",
    "\n",
    "---\n",
    "\n",
    "## Summary\n",
    "\n",
    "- Pandas is central to data analysis in Python.\n",
    "- You can quickly access, manipulate, and summarize data.\n",
    "- DataFrames and Series are the basic building blocks.\n",
    "- Pandas includes statistical tools for quick insights.\n",
    "- You can visualize your data directly using built-in plotting features.\n",
    "\n",
    "Next steps: We'll explore advanced data manipulation and grouping in Pandas, and integrate those insights with Seaborn for rich visual storytelling."
   ]
  },
  {
   "cell_type": "markdown",
   "id": "a73c7f84",
   "metadata": {},
   "source": [
    "[Slides](https://docs.google.com/presentation/d/1W39QO-6y_y5W73n17HfY3AFU8NUNJLtkO532qgCp5hI/edit?usp=sharing)"
   ]
  }
 ],
 "metadata": {
  "kernelspec": {
   "display_name": "venv (3.12.0)",
   "language": "python",
   "name": "python3"
  },
  "language_info": {
   "codemirror_mode": {
    "name": "ipython",
    "version": 3
   },
   "file_extension": ".py",
   "mimetype": "text/x-python",
   "name": "python",
   "nbconvert_exporter": "python",
   "pygments_lexer": "ipython3",
   "version": "3.12.0"
  }
 },
 "nbformat": 4,
 "nbformat_minor": 5
}
